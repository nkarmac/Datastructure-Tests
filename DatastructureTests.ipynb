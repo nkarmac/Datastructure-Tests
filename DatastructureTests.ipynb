{
 "cells": [
  {
   "cell_type": "markdown",
   "metadata": {},
   "source": [
    "# **Datastructure Speed Tests**"
   ]
  },
  {
   "cell_type": "code",
   "execution_count": 104,
   "metadata": {},
   "outputs": [],
   "source": [
    "from time import time\n",
    "from random import random"
   ]
  },
  {
   "cell_type": "markdown",
   "metadata": {},
   "source": [
    "## **Queue**"
   ]
  },
  {
   "cell_type": "code",
   "execution_count": 105,
   "metadata": {},
   "outputs": [],
   "source": [
    "# import \"optimized\" library\n",
    "from collections import deque"
   ]
  },
  {
   "cell_type": "markdown",
   "metadata": {},
   "source": [
    "Enqueue Front"
   ]
  },
  {
   "cell_type": "code",
   "execution_count": 120,
   "metadata": {},
   "outputs": [
    {
     "name": "stdout",
     "output_type": "stream",
     "text": [
      "Built-In:\tCollections:\n",
      "0.87861657\t0.00692964\n",
      "0.87991881\t0.00497460\n",
      "0.86804485\t0.00598526\n",
      "0.85502481\t0.00595737\n",
      "0.84425831\t0.00504351\n"
     ]
    }
   ],
   "source": [
    "# queue size\n",
    "N = 100000\n",
    "\n",
    "# enqueue timing function\n",
    "def timing(queue):\n",
    "    start = time()\n",
    "    for i in range(N):\n",
    "        queue.insert(0,random())\n",
    "    end = time()\n",
    "    return end-start\n",
    "\n",
    "# enqueue tests\n",
    "print(\"Built-In:\\tCollections:\")\n",
    "for test in range(5):\n",
    "    \n",
    "    # built-in test\n",
    "    insertTime = timing([])\n",
    "    print(f\"{insertTime:.8f}\", end=\"\")\n",
    "\n",
    "    # collections test\n",
    "    collectionsStack = deque([])\n",
    "    insertTime = timing(collectionsStack)\n",
    "    print(f\"\\t{insertTime:.8f}\")\n"
   ]
  },
  {
   "cell_type": "markdown",
   "metadata": {},
   "source": [
    "Dequeue End"
   ]
  },
  {
   "cell_type": "code",
   "execution_count": 113,
   "metadata": {},
   "outputs": [
    {
     "name": "stdout",
     "output_type": "stream",
     "text": [
      "Built-In:\tCollections:\n",
      "0.00299120\t0.00299025\n",
      "0.00299025\t0.00306821\n",
      "0.00299263\t0.00299001\n",
      "0.00298786\t0.00398993\n",
      "0.00304723\t0.00293279\n"
     ]
    }
   ],
   "source": [
    "N = 100000\n",
    "\n",
    "# dequeue timing function\n",
    "def timing(queue):\n",
    "    start = time()\n",
    "    for i in range(N):\n",
    "        queue.pop()\n",
    "    end = time()\n",
    "    return end-start\n",
    "\n",
    "print(\"Built-In:\\tCollections:\")\n",
    "for test in range(5):\n",
    "\n",
    "    # create empty queues\n",
    "    myQueue = []\n",
    "    collectionsStack = deque([])\n",
    "\n",
    "    # fill queues\n",
    "    for i in range(N):\n",
    "        myQueue.insert(0,random())\n",
    "        collectionsStack.insert(0,random())\n",
    "\n",
    "    # built-in dequeue\n",
    "    popTime = timing(myQueue)\n",
    "    print(f\"{popTime:.8f}\", end=\"\")\n",
    "\n",
    "    # collections dequeue\n",
    "    popTime = timing(collectionsStack)\n",
    "    print(f\"\\t{popTime:.8f}\")"
   ]
  },
  {
   "cell_type": "markdown",
   "metadata": {},
   "source": [
    "Enqueue End\n"
   ]
  },
  {
   "cell_type": "code",
   "execution_count": 117,
   "metadata": {},
   "outputs": [
    {
     "name": "stdout",
     "output_type": "stream",
     "text": [
      "Built-In:\tCollections:\n",
      "0.00480890\t0.00460029\n",
      "0.00449705\t0.00398088\n",
      "0.00498724\t0.00398660\n",
      "0.00398231\t0.00398636\n",
      "0.00398660\t0.00498414\n"
     ]
    }
   ],
   "source": [
    "# queue size\n",
    "N = 100000\n",
    "\n",
    "# enqueue timing function\n",
    "def timing(queue):\n",
    "    start = time()\n",
    "    for i in range(N):\n",
    "        queue.append(random())\n",
    "    end = time()\n",
    "    return end-start\n",
    "\n",
    "# enqueue tests\n",
    "print(\"Built-In:\\tCollections:\")\n",
    "for test in range(5):\n",
    "    \n",
    "    # built-in test\n",
    "    insertTime = timing([])\n",
    "    print(f\"{insertTime:.8f}\", end=\"\")\n",
    "\n",
    "    # collections test\n",
    "    collectionsStack = deque([])\n",
    "    insertTime = timing(collectionsStack)\n",
    "    print(f\"\\t{insertTime:.8f}\")"
   ]
  },
  {
   "cell_type": "markdown",
   "metadata": {},
   "source": [
    "Dequeue Front"
   ]
  },
  {
   "cell_type": "code",
   "execution_count": 134,
   "metadata": {},
   "outputs": [
    {
     "name": "stdout",
     "output_type": "stream",
     "text": [
      "Built-In:\tCollections:\n",
      "0.09251142\t0.00098515\n",
      "0.09338355\t0.00100160\n",
      "0.09341526\t0.00098538\n",
      "0.09238839\t0.00099516\n",
      "0.09339690\t0.00102282\n"
     ]
    }
   ],
   "source": [
    "N = 10000\n",
    "\n",
    "print(\"Built-In:\\tCollections:\")\n",
    "for test in range(5):\n",
    "\n",
    "    # create empty queues\n",
    "    myQueue = []\n",
    "    collectionsStack = deque([])\n",
    "\n",
    "    # fill queues\n",
    "    for i in range(N):\n",
    "        myQueue.append(random())\n",
    "        collectionsStack.append(random())\n",
    "\n",
    "    # built-in dequeue\n",
    "    start = time()\n",
    "    for i in range(N):\n",
    "        myQueue.pop(0)\n",
    "    end = time()\n",
    "    print(f\"{end-start:.8f}\", end=\"\")\n",
    "\n",
    "    # collections dequeue\n",
    "    start = time()\n",
    "    for i in range(N):\n",
    "        collectionsStack.popleft()\n",
    "    end = time()\n",
    "    print(f\"\\t{end-start:.8f}\")"
   ]
  },
  {
   "cell_type": "markdown",
   "metadata": {},
   "source": [
    "## **Stack**"
   ]
  },
  {
   "cell_type": "markdown",
   "metadata": {},
   "source": [
    "Add"
   ]
  },
  {
   "cell_type": "code",
   "execution_count": 77,
   "metadata": {},
   "outputs": [
    {
     "name": "stdout",
     "output_type": "stream",
     "text": [
      "Built-In\tCollections\n",
      "0.06180191\t0.05635667\n",
      "0.06149268\t0.05581713\n",
      "0.06231260\t0.05638838\n",
      "0.06102228\t0.05252934\n",
      "0.06055856\t0.05880427\n"
     ]
    }
   ],
   "source": [
    "n = 1000000\n",
    "\n",
    "print(\"Built-In:\\tCollections:\")\n",
    "\n",
    "for test in range(5):\n",
    "\n",
    "    # create built-in and library stacks\n",
    "    myStack = []\n",
    "    collectionsStack = deque([])\n",
    "    \n",
    "    start = time()\n",
    "    for i in range(n):\n",
    "        myStack.append(random())\n",
    "    end = time()\n",
    "\n",
    "    print(f\"{end-start:.8f}\", end=\"\")\n",
    "\n",
    "    start = time()\n",
    "    for i in range(n):\n",
    "        collectionsStack.append(random())\n",
    "    end = time()\n",
    "\n",
    "    print(f\"\\t{end-start:.8f}\")"
   ]
  },
  {
   "cell_type": "markdown",
   "metadata": {},
   "source": [
    "Pop"
   ]
  },
  {
   "cell_type": "code",
   "execution_count": 80,
   "metadata": {},
   "outputs": [
    {
     "name": "stdout",
     "output_type": "stream",
     "text": [
      "Built-In:\tCollections:\n",
      "0.03552604\t0.03887224\n",
      "0.03499889\t0.03849387\n",
      "0.03586769\t0.03853083\n",
      "0.03687668\t0.03894114\n",
      "0.03650999\t0.03787661\n"
     ]
    }
   ],
   "source": [
    "n = 1000000\n",
    "\n",
    "print(\"Built-In:\\tCollections:\")\n",
    "\n",
    "for test in range(5):\n",
    "\n",
    "    myStack = []\n",
    "    collectionsStack = deque([])\n",
    "    \n",
    "    for i in range(n):\n",
    "        myStack.append(random())\n",
    "        collectionsStack.append(random())\n",
    "\n",
    "\n",
    "    start = time()\n",
    "    for i in range(n):\n",
    "        myStack.pop()\n",
    "    end = time()\n",
    "\n",
    "    print(f\"{end-start:.8f}\", end=\"\")\n",
    "\n",
    "    start = time()\n",
    "    for i in range(n):\n",
    "        collectionsStack.pop()\n",
    "    end = time()\n",
    "\n",
    "    print(f\"\\t{end-start:.8f}\")\n"
   ]
  }
 ],
 "metadata": {
  "kernelspec": {
   "display_name": "Python 3",
   "language": "python",
   "name": "python3"
  },
  "language_info": {
   "codemirror_mode": {
    "name": "ipython",
    "version": 3
   },
   "file_extension": ".py",
   "mimetype": "text/x-python",
   "name": "python",
   "nbconvert_exporter": "python",
   "pygments_lexer": "ipython3",
   "version": "3.11.3"
  }
 },
 "nbformat": 4,
 "nbformat_minor": 2
}
