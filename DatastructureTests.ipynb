{
 "cells": [
  {
   "cell_type": "markdown",
   "metadata": {},
   "source": [
    "# **Datastructure Speed Tests**"
   ]
  },
  {
   "cell_type": "code",
   "execution_count": 2,
   "metadata": {},
   "outputs": [],
   "source": [
    "from time import time\n",
    "from random import random"
   ]
  },
  {
   "cell_type": "markdown",
   "metadata": {},
   "source": [
    "## **Queue & Deque**"
   ]
  },
  {
   "cell_type": "code",
   "execution_count": 29,
   "metadata": {},
   "outputs": [],
   "source": [
    "# import \"optimized\" deque library\n",
    "from collections import deque"
   ]
  },
  {
   "cell_type": "markdown",
   "metadata": {},
   "source": [
    "Enqueue Front"
   ]
  },
  {
   "cell_type": "code",
   "execution_count": 22,
   "metadata": {},
   "outputs": [
    {
     "name": "stdout",
     "output_type": "stream",
     "text": [
      "Queue:\t\tDeque:\n",
      "0.84460354\t0.00522089\n",
      "0.84081936\t0.00598168\n",
      "0.84051895\t0.00498271\n",
      "0.84748054\t0.00598216\n",
      "0.84221673\t0.00598216\n"
     ]
    }
   ],
   "source": [
    "# queue size\n",
    "N = 100000\n",
    "\n",
    "# enqueue timing function\n",
    "def timing(queue):\n",
    "    start = time()\n",
    "    for i in range(N):\n",
    "        queue.insert(0,random())\n",
    "    end = time()\n",
    "    return end-start\n",
    "\n",
    "# enqueue tests\n",
    "print(\"Queue:\\t\\tDeque:\")\n",
    "for test in range(5):\n",
    "    \n",
    "    # queue test\n",
    "    insertTime = timing([])\n",
    "    print(f\"{insertTime:.8f}\", end=\"\")\n",
    "\n",
    "    # deque test\n",
    "    collectionsStack = deque([])\n",
    "    insertTime = timing(collectionsStack)\n",
    "    print(f\"\\t{insertTime:.8f}\")\n"
   ]
  },
  {
   "cell_type": "markdown",
   "metadata": {},
   "source": [
    "Dequeue End"
   ]
  },
  {
   "cell_type": "code",
   "execution_count": 23,
   "metadata": {},
   "outputs": [
    {
     "name": "stdout",
     "output_type": "stream",
     "text": [
      "Queue:\t\tDeque:\n",
      "0.00297260\t0.00300455\n",
      "0.00198078\t0.00200438\n",
      "0.00197220\t0.00298309\n",
      "0.00199342\t0.00199366\n",
      "0.00298953\t0.00299048\n"
     ]
    }
   ],
   "source": [
    "N = 100000\n",
    "\n",
    "# dequeue timing function\n",
    "def timing(queue):\n",
    "    start = time()\n",
    "    for i in range(N):\n",
    "        queue.pop()\n",
    "    end = time()\n",
    "    return end-start\n",
    "\n",
    "print(\"Queue:\\t\\tDeque:\")\n",
    "for test in range(5):\n",
    "\n",
    "    # create empty queues\n",
    "    myQueue = []\n",
    "    collectionsStack = deque([])\n",
    "\n",
    "    # fill queues\n",
    "    for i in range(N):\n",
    "        myQueue.insert(0,random())\n",
    "        collectionsStack.insert(0,random())\n",
    "\n",
    "    # queue dequeue\n",
    "    popTime = timing(myQueue)\n",
    "    print(f\"{popTime:.8f}\", end=\"\")\n",
    "\n",
    "    # deque dequeue\n",
    "    popTime = timing(collectionsStack)\n",
    "    print(f\"\\t{popTime:.8f}\")"
   ]
  },
  {
   "cell_type": "markdown",
   "metadata": {},
   "source": [
    "Enqueue End\n"
   ]
  },
  {
   "cell_type": "code",
   "execution_count": 38,
   "metadata": {},
   "outputs": [
    {
     "name": "stdout",
     "output_type": "stream",
     "text": [
      "Queue:\t\tDeque:\n",
      "0.00299001\t0.00398564\n",
      "0.00360703\t0.00353670\n",
      "0.00322700\t0.00298643\n",
      "0.00398993\t0.00398684\n",
      "0.00298977\t0.00298643\n"
     ]
    }
   ],
   "source": [
    "# queue size\n",
    "N = 100000\n",
    "\n",
    "# enqueue timing function\n",
    "def timing(queue):\n",
    "    start = time()\n",
    "    for i in range(N):\n",
    "        queue.append(random())\n",
    "    end = time()\n",
    "    return end-start\n",
    "\n",
    "# enqueue tests\n",
    "print(\"Queue:\\t\\tDeque:\")\n",
    "for test in range(5):\n",
    "    \n",
    "    # queue test\n",
    "    appendTime = timing([])\n",
    "    print(f\"{appendTime:.8f}\", end=\"\")\n",
    "\n",
    "    # deque test\n",
    "    collectionsStack = deque([])\n",
    "    appendTime = timing(collectionsStack)\n",
    "    print(f\"\\t{appendTime:.8f}\")"
   ]
  },
  {
   "cell_type": "markdown",
   "metadata": {},
   "source": [
    "Dequeue Front"
   ]
  },
  {
   "cell_type": "code",
   "execution_count": 28,
   "metadata": {},
   "outputs": [
    {
     "name": "stdout",
     "output_type": "stream",
     "text": [
      "Queue:\t\tDeque:\n",
      "9.24177957\t0.00504398\n",
      "9.05862856\t0.00398874\n",
      "9.05871177\t0.00304294\n",
      "9.05977821\t0.00398636\n",
      "8.90973139\t0.00399017\n"
     ]
    }
   ],
   "source": [
    "N = 100000\n",
    "\n",
    "print(\"Queue:\\t\\tDeque:\")\n",
    "for test in range(5):\n",
    "\n",
    "    # create empty queues\n",
    "    myQueue = []\n",
    "    collectionsStack = deque([])\n",
    "\n",
    "    # fill queues\n",
    "    for i in range(N):\n",
    "        myQueue.append(random())\n",
    "        collectionsStack.append(random())\n",
    "\n",
    "    # queue dequeue\n",
    "    start = time()\n",
    "    for i in range(N):\n",
    "        myQueue.pop(0)\n",
    "    end = time()\n",
    "    print(f\"{end-start:.8f}\", end=\"\")\n",
    "\n",
    "    # deque dequeue\n",
    "    start = time()\n",
    "    for i in range(N):\n",
    "        collectionsStack.popleft()\n",
    "    end = time()\n",
    "    print(f\"\\t{end-start:.8f}\")"
   ]
  },
  {
   "cell_type": "markdown",
   "metadata": {},
   "source": [
    "## **Stack**"
   ]
  },
  {
   "cell_type": "markdown",
   "metadata": {},
   "source": [
    "Push"
   ]
  },
  {
   "cell_type": "code",
   "execution_count": 43,
   "metadata": {},
   "outputs": [
    {
     "name": "stdout",
     "output_type": "stream",
     "text": [
      "Built-In:\tCollections:\n",
      "0.04820538\t0.00399017\n",
      "0.05035138\t0.00399017\n",
      "0.04962277\t0.00399017\n",
      "0.04890037\t0.00399017\n",
      "0.04884481\t0.00399017\n"
     ]
    }
   ],
   "source": [
    "N = 1000000\n",
    "\n",
    "# append timing function\n",
    "def timing(stack):\n",
    "    start = time()\n",
    "    for i in range(N):\n",
    "        stack.append(random())\n",
    "    end = time()\n",
    "    return end-start\n",
    "\n",
    "print(\"Built-In:\\tCollections:\")\n",
    "\n",
    "for test in range(5):\n",
    "\n",
    "    # time built-in stack\n",
    "    appendTime = timing([])\n",
    "    print(f\"{appendTime:.8f}\", end=\"\")\n",
    "\n",
    "    # time collections stack\n",
    "    appendTime = timing(collectionsStack)\n",
    "    print(f\"\\t{end-start:.8f}\")"
   ]
  },
  {
   "cell_type": "markdown",
   "metadata": {},
   "source": [
    "Pop"
   ]
  },
  {
   "cell_type": "code",
   "execution_count": 47,
   "metadata": {},
   "outputs": [
    {
     "name": "stdout",
     "output_type": "stream",
     "text": [
      "Built-In:\tCollections:\n",
      "0.02607679\t0.02691436\n",
      "0.02555227\t0.02492189\n",
      "0.02591395\t0.02994132\n",
      "0.02589822\t0.02690768\n",
      "0.02587390\t0.02691913\n"
     ]
    }
   ],
   "source": [
    "N = 1000000\n",
    "\n",
    "# pop timing function\n",
    "def timing(stack):\n",
    "    start = time()\n",
    "    for i in range(N):\n",
    "        stack.pop()\n",
    "    end = time()\n",
    "    return end-start\n",
    "\n",
    "print(\"Built-In:\\tCollections:\")\n",
    "\n",
    "for test in range(5):\n",
    "\n",
    "    myStack = []\n",
    "    collectionsStack = deque([])\n",
    "    \n",
    "    for i in range(N):\n",
    "        myStack.append(random())\n",
    "        collectionsStack.append(random())\n",
    "\n",
    "    # time built-in stack\n",
    "    popTime = timing(myStack)\n",
    "    print(f\"{popTime:.8f}\", end=\"\")\n",
    "\n",
    "    # time collections stack\n",
    "    popTime = timing(collectionsStack)\n",
    "    print(f\"\\t{popTime:.8f}\")\n"
   ]
  },
  {
   "cell_type": "markdown",
   "metadata": {},
   "source": [
    "## **Circle Queue**"
   ]
  },
  {
   "cell_type": "code",
   "execution_count": 93,
   "metadata": {},
   "outputs": [],
   "source": [
    "class circleQueue:\n",
    "    def __init__(self, size):\n",
    "        self.head = -1\n",
    "        self.tail = -1\n",
    "        self.size = size\n",
    "        self.queue = [None]*size\n",
    "\n",
    "    def checkFull(self):\n",
    "        return (self.head == 0 and self.tail == self.size-1) or (self.head == self.tail + 1)\n",
    "    \n",
    "    def enqueue(self, item):\n",
    "        # check if full\n",
    "        if self.checkFull():\n",
    "            print(\"Full\")\n",
    "            return\n",
    "        \n",
    "        # check if initial item\n",
    "        if(self.head == -1):\n",
    "            self.head = 0\n",
    "        \n",
    "        # set new rear index, add item\n",
    "        self.tail = (self.tail + 1) % self.size\n",
    "        self.queue[self.tail] = item\n",
    "\n",
    "    def dequeue(self):\n",
    "        # check if empty\n",
    "        if self.head == -1:\n",
    "            print(\"empty\")\n",
    "            return\n",
    "        \n",
    "        # return last item\n",
    "        elif (self.head == self.tail):\n",
    "            item = self.queue[self.head]\n",
    "            self.head = -1\n",
    "            self.tail = -1\n",
    "            return item\n",
    "        \n",
    "        # retrieve item, increment head index\n",
    "        else:\n",
    "            item = self.queue[self.head]\n",
    "            self.head = (self.head + 1) % self.size\n",
    "            return item\n",
    "\n",
    "    # def printQueue(self):\n",
    "    #     if self.tail >= self.head:\n",
    "    #         for i in range(self.head, self.tail+1):\n",
    "    #             print(self.queue[i])\n",
    "    #     else:\n",
    "    #         for i in range(self.head, self.size):\n",
    "    #             print(self.queue[i])\n",
    "    #         for i in range(0, self.tail + 1):\n",
    "    #             print(self.queue[i])\n",
    "\n",
    "\n"
   ]
  },
  {
   "cell_type": "markdown",
   "metadata": {},
   "source": [
    "Limited Space Queue Append Test"
   ]
  },
  {
   "cell_type": "code",
   "execution_count": 124,
   "metadata": {},
   "outputs": [
    {
     "name": "stdout",
     "output_type": "stream",
     "text": [
      "0.03767180\n"
     ]
    }
   ],
   "source": [
    "N = 100000\n",
    "SIZE = 1000\n",
    "\n",
    "testQueue = circleQueue(SIZE)\n",
    "\n",
    "start = time()\n",
    "for i in range(N):\n",
    "    # empty half space when full\n",
    "    if testQueue.checkFull():\n",
    "        for i in range(int(SIZE/2)):\n",
    "            testQueue.dequeue()\n",
    "    # append\n",
    "    testQueue.enqueue(random())\n",
    "end = time()\n",
    "\n",
    "print(f\"{end-start:.8f}\")    "
   ]
  }
 ],
 "metadata": {
  "kernelspec": {
   "display_name": "Python 3",
   "language": "python",
   "name": "python3"
  },
  "language_info": {
   "codemirror_mode": {
    "name": "ipython",
    "version": 3
   },
   "file_extension": ".py",
   "mimetype": "text/x-python",
   "name": "python",
   "nbconvert_exporter": "python",
   "pygments_lexer": "ipython3",
   "version": "3.11.3"
  }
 },
 "nbformat": 4,
 "nbformat_minor": 2
}
