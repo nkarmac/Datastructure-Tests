{
 "cells": [
  {
   "cell_type": "markdown",
   "metadata": {},
   "source": [
    "# Datastructure Speed Tests"
   ]
  },
  {
   "cell_type": "code",
   "execution_count": 121,
   "metadata": {},
   "outputs": [],
   "source": [
    "from time import time as timer\n",
    "from random import random"
   ]
  },
  {
   "cell_type": "markdown",
   "metadata": {},
   "source": [
    "### Stack"
   ]
  },
  {
   "cell_type": "code",
   "execution_count": 4,
   "metadata": {},
   "outputs": [],
   "source": [
    "# import \"optimized\" library\n",
    "from collections import deque"
   ]
  },
  {
   "cell_type": "markdown",
   "metadata": {},
   "source": [
    "Add"
   ]
  },
  {
   "cell_type": "code",
   "execution_count": 145,
   "metadata": {},
   "outputs": [
    {
     "name": "stdout",
     "output_type": "stream",
     "text": [
      "Built-In: 0.6257436275482178\n",
      "Collections: 0.5659956932067871\n"
     ]
    }
   ],
   "source": [
    "# create built-in and library stacks\n",
    "myStack = []\n",
    "collectionsStack = deque([])\n",
    "\n",
    "n = 10000000\n",
    "\n",
    "start = timer()\n",
    "for i in range(n):\n",
    "    myStack.append(random())\n",
    "end = timer()\n",
    "\n",
    "print(f\"Built-In: {end-start}\")\n",
    "\n",
    "start = timer()\n",
    "for i in range(n):\n",
    "    collectionsStack.append(random())\n",
    "end = timer()\n",
    "\n",
    "print(f\"Collections: {end-start}\")"
   ]
  },
  {
   "cell_type": "markdown",
   "metadata": {},
   "source": [
    "Pop"
   ]
  },
  {
   "cell_type": "code",
   "execution_count": 162,
   "metadata": {},
   "outputs": [
    {
     "name": "stdout",
     "output_type": "stream",
     "text": [
      "Built-In: 0.3395571708679199\n",
      "Collections: 0.3605501651763916\n"
     ]
    }
   ],
   "source": [
    "myStack = []\n",
    "collectionsStack = deque([])\n",
    "\n",
    "n = 10000000\n",
    "\n",
    "for i in range(n):\n",
    "    myStack.append(random())\n",
    "    collectionsStack.append(random())\n",
    "\n",
    "\n",
    "start = timer()\n",
    "for i in range(n):\n",
    "    myStack.pop()\n",
    "end = timer()\n",
    "\n",
    "print(f\"Built-In: {end-start}\")\n",
    "\n",
    "start = timer()\n",
    "for i in range(n):\n",
    "    collectionsStack.pop()\n",
    "end = timer()\n",
    "\n",
    "print(f\"Collections: {end-start}\")\n"
   ]
  }
 ],
 "metadata": {
  "kernelspec": {
   "display_name": "Python 3",
   "language": "python",
   "name": "python3"
  },
  "language_info": {
   "codemirror_mode": {
    "name": "ipython",
    "version": 3
   },
   "file_extension": ".py",
   "mimetype": "text/x-python",
   "name": "python",
   "nbconvert_exporter": "python",
   "pygments_lexer": "ipython3",
   "version": "3.11.3"
  }
 },
 "nbformat": 4,
 "nbformat_minor": 2
}
