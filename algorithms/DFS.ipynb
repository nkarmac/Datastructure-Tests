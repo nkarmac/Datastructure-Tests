{
 "cells": [
  {
   "cell_type": "markdown",
   "metadata": {},
   "source": [
    "## **Depth First Search**"
   ]
  },
  {
   "cell_type": "code",
   "execution_count": 193,
   "metadata": {},
   "outputs": [],
   "source": [
    "from time import time\n",
    "from random import randint"
   ]
  },
  {
   "cell_type": "markdown",
   "metadata": {},
   "source": [
    "Adjacency Matrix Graph"
   ]
  },
  {
   "cell_type": "code",
   "execution_count": 194,
   "metadata": {},
   "outputs": [],
   "source": [
    "class MatrixGraph:\n",
    "    def __init__(self,size):\n",
    "        self.size = size\n",
    "        self.graph = []\n",
    "        for i in range(size):\n",
    "            self.graph.append([0 for x in range(size)])\n",
    "\n",
    "    def add_edge(self, u, v):\n",
    "        self.graph[u][v] = 1\n",
    "        self.graph[v][u] = 1\n",
    "\n",
    "    def remove_edge(self,u,v):\n",
    "        self.graph[u][v] = 0\n",
    "        self.graph[v][u] = 0\n",
    "\n",
    "    def print_graph(self):\n",
    "        for i in range(self.size):\n",
    "            print(\"[\", end=\" \")\n",
    "            for j in range(self.size):\n",
    "                print(f\"{self.graph[i][j]}\", end=\" \")\n",
    "            print(\"]\")"
   ]
  },
  {
   "cell_type": "markdown",
   "metadata": {},
   "source": [
    "Adjacency List Graph"
   ]
  },
  {
   "cell_type": "code",
   "execution_count": 195,
   "metadata": {},
   "outputs": [],
   "source": [
    "class ListGraph:\n",
    "    def __init__(self,size):\n",
    "        self.size = size\n",
    "        self.graph = {}\n",
    "        for i in range(size):\n",
    "            self.graph[i] = set()\n",
    "    \n",
    "    def add_edge(self,u,v):\n",
    "        self.graph[u].add(v)\n",
    "        self.graph[v].add(u)\n",
    "\n",
    "    def remove_edge(self,u,v):\n",
    "        self.graph[u].discard(v)\n",
    "        self.graph[v].discard(u)\n",
    "\n",
    "    def print_graph(self):\n",
    "        for i,j in self.graph.items():\n",
    "            print(f\"{i}:\",end=\" \")\n",
    "            if len(j) == 0:\n",
    "                print()\n",
    "            else:\n",
    "                print(j)\n",
    "\n",
    "    def dfs(self,node,visited:set=set()):\n",
    "        # add all adjacent nodes to stack\n",
    "        # visit each node, pop stack visit next\n",
    "        visited.add(node)\n",
    "        #print(node, \"visited\")\n",
    "        for v in self.graph[node]:\n",
    "            if v not in visited:\n",
    "                self.dfs(v,visited)\n",
    "        \n",
    "        return visited\n",
    "    \n",
    "    def dfs_non_recursion(self,node):\n",
    "        visited = set()\n",
    "        stack = []\n",
    "\n",
    "        stack.append(node)\n",
    "        \n",
    "        while stack:\n",
    "            node = stack.pop()\n",
    "            visited.add(node)\n",
    "            #print(node)\n",
    "            for v in self.graph[node]:\n",
    "                if v not in visited:\n",
    "                    stack.append(v)\n",
    "        \n",
    "        return visited"
   ]
  },
  {
   "cell_type": "markdown",
   "metadata": {},
   "source": [
    "Full Traversal Test"
   ]
  },
  {
   "cell_type": "code",
   "execution_count": 216,
   "metadata": {},
   "outputs": [
    {
     "name": "stdout",
     "output_type": "stream",
     "text": [
      "Recursion\tIterative\n",
      "0.00099659\t0.04935598\n",
      "0.00099659\t0.05733204\n",
      "0.00099659\t0.03902793\n",
      "0.00100112\t0.04385519\n",
      "0.00099277\t0.03924894\n"
     ]
    }
   ],
   "source": [
    "N = 2000\n",
    "\n",
    "print(\"Recursion\\tIterative\")\n",
    "\n",
    "for test in range(5):\n",
    "\n",
    "    graph = ListGraph(N)\n",
    "\n",
    "    for _ in range(2*N):\n",
    "        graph.add_edge(randint(0,N-1),randint(0,N-1))\n",
    "\n",
    "\n",
    "\n",
    "    start = time()\n",
    "    visited = set()\n",
    "    for i in range(N):\n",
    "        if i not in visited:\n",
    "            visited = graph.dfs(i,visited)\n",
    "    end = time()\n",
    "\n",
    "    print(f\"{end-start:.8f}\",end=\"\\t\")\n",
    "\n",
    "    start = time()\n",
    "    visited = set()\n",
    "    for i in range(N):\n",
    "        if i not in visited:\n",
    "            visited = graph.dfs_non_recursion(i)\n",
    "    end = time()\n",
    "\n",
    "    print(f\"{end-start:.8f}\")"
   ]
  }
 ],
 "metadata": {
  "kernelspec": {
   "display_name": "Python 3",
   "language": "python",
   "name": "python3"
  },
  "language_info": {
   "codemirror_mode": {
    "name": "ipython",
    "version": 3
   },
   "file_extension": ".py",
   "mimetype": "text/x-python",
   "name": "python",
   "nbconvert_exporter": "python",
   "pygments_lexer": "ipython3",
   "version": "3.11.3"
  }
 },
 "nbformat": 4,
 "nbformat_minor": 2
}
