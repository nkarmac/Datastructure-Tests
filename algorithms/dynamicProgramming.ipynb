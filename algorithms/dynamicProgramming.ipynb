{
 "cells": [
  {
   "cell_type": "markdown",
   "metadata": {},
   "source": [
    "## **Dynamic Programming**"
   ]
  },
  {
   "cell_type": "code",
   "execution_count": 84,
   "metadata": {},
   "outputs": [],
   "source": [
    "from time import time\n",
    "from random import choice\n",
    "from random import randint\n",
    "from string import ascii_lowercase"
   ]
  },
  {
   "cell_type": "markdown",
   "metadata": {},
   "source": [
    "### **Fibonacci** "
   ]
  },
  {
   "cell_type": "code",
   "execution_count": 85,
   "metadata": {},
   "outputs": [
    {
     "name": "stdout",
     "output_type": "stream",
     "text": [
      "0.00100112\n"
     ]
    }
   ],
   "source": [
    "fibdict = {0:0,1:1}\n",
    "def fib(n):\n",
    "    if n in fibdict:\n",
    "        return fibdict[n]\n",
    "    fibdict[n] = fib(n-1) + fib(n-2)\n",
    "    return fibdict[n]\n",
    "\n",
    "start = time()\n",
    "fib(1000)\n",
    "end = time()\n",
    "print(f\"{end-start:.8f}\")"
   ]
  },
  {
   "cell_type": "markdown",
   "metadata": {},
   "source": [
    "### **Longest Common Subsequence** "
   ]
  },
  {
   "cell_type": "code",
   "execution_count": 86,
   "metadata": {},
   "outputs": [],
   "source": [
    "def LCS(x,y):\n",
    "    m = len(x)\n",
    "    n = len(y)\n",
    "    lcs = [[0 for _ in range(n+1)] for _ in range(m+1)]\n",
    "    for i in range(m):\n",
    "        for j in range(n):\n",
    "            if x[i] == y[j]:\n",
    "                lcs[i+1][j+1] = 1 + lcs[i][j]\n",
    "            else:\n",
    "                lcs[i+1][j+1] = max(lcs[i][j+1], lcs[i+1][j])\n",
    "\n",
    "    i = m\n",
    "    j = n\n",
    "    lcs_output = []\n",
    "    while i > 0 and j > 0:\n",
    "        if lcs[i][j] == 0:\n",
    "            break\n",
    "        elif lcs[i][j] > max(lcs[i-1][j], lcs[i][j-1]):\n",
    "            lcs_output.insert(0,x[i-1])\n",
    "            i -= 1\n",
    "            j -= 1\n",
    "        elif lcs[i][j] > lcs[i-1][j]:\n",
    "            j -= 1\n",
    "        else:\n",
    "            i -= 1\n",
    "    \n",
    "    return lcs_output"
   ]
  },
  {
   "cell_type": "markdown",
   "metadata": {},
   "source": [
    "LCS test for strings of length n & m"
   ]
  },
  {
   "cell_type": "code",
   "execution_count": 87,
   "metadata": {},
   "outputs": [
    {
     "name": "stdout",
     "output_type": "stream",
     "text": [
      "0.16780448\n",
      "0.1668241\n",
      "0.14075327\n",
      "0.14080763\n",
      "0.1490705\n"
     ]
    }
   ],
   "source": [
    "for test in range(5):\n",
    "    n = randint(900,1000)\n",
    "    m = randint(900,1000)\n",
    "\n",
    "    x = \"\".join(choice(ascii_lowercase) for i in range(n))\n",
    "    y = \"\".join(choice(ascii_lowercase) for i in range(m))\n",
    "\n",
    "    start = time()\n",
    "    LCS(x,y)\n",
    "    end = time()\n",
    "\n",
    "    print(f\"{end-start:.8}\")"
   ]
  }
 ],
 "metadata": {
  "kernelspec": {
   "display_name": "Python 3",
   "language": "python",
   "name": "python3"
  },
  "language_info": {
   "codemirror_mode": {
    "name": "ipython",
    "version": 3
   },
   "file_extension": ".py",
   "mimetype": "text/x-python",
   "name": "python",
   "nbconvert_exporter": "python",
   "pygments_lexer": "ipython3",
   "version": "3.11.3"
  }
 },
 "nbformat": 4,
 "nbformat_minor": 2
}
