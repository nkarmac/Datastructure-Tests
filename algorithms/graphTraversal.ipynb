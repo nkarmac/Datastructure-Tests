{
 "cells": [
  {
   "cell_type": "markdown",
   "metadata": {},
   "source": [
    "## **Graph Traversal**"
   ]
  },
  {
   "cell_type": "code",
   "execution_count": 107,
   "metadata": {},
   "outputs": [],
   "source": [
    "from time import time\n",
    "from random import randint\n",
    "from collections import deque"
   ]
  },
  {
   "cell_type": "markdown",
   "metadata": {},
   "source": [
    "Adjacency Matrix Graph"
   ]
  },
  {
   "cell_type": "code",
   "execution_count": 108,
   "metadata": {},
   "outputs": [],
   "source": [
    "class MatrixGraph:\n",
    "    def __init__(self,size):\n",
    "        self.size = size\n",
    "        self.graph = []\n",
    "        for i in range(size):\n",
    "            self.graph.append([0 for x in range(size)])\n",
    "\n",
    "    def add_edge(self, u, v):\n",
    "        self.graph[u][v] = 1\n",
    "        self.graph[v][u] = 1\n",
    "\n",
    "    def remove_edge(self,u,v):\n",
    "        self.graph[u][v] = 0\n",
    "        self.graph[v][u] = 0\n",
    "\n",
    "    def dfs(self,node,visited=set()):\n",
    "        visited.add(node)\n",
    "        print(node, \"visited\")\n",
    "        for i,e in enumerate(self.graph[node]):\n",
    "            if e == 1 and i not in visited:\n",
    "                self.dfs(i,visited)\n",
    "        return visited\n",
    "    \n",
    "    def dfs_non_recursion(self,node):\n",
    "        visited = []\n",
    "        stack = []\n",
    "\n",
    "        stack.append(node)\n",
    "        while(stack):\n",
    "            v = stack.pop()\n",
    "            visited.append(v)\n",
    "            print(v)\n",
    "            for i,e in enumerate(self.graph[v]):\n",
    "                if e == 1 and i not in visited:\n",
    "                    stack.append(i)\n",
    "        return visited\n",
    "\n",
    "    def print_graph(self):\n",
    "        for i in range(self.size):\n",
    "            print(\"[\", end=\" \")\n",
    "            for j in range(self.size):\n",
    "                print(f\"{self.graph[i][j]}\", end=\" \")\n",
    "            print(\"]\")"
   ]
  },
  {
   "cell_type": "markdown",
   "metadata": {},
   "source": [
    "Adjacency List Graph"
   ]
  },
  {
   "cell_type": "code",
   "execution_count": 109,
   "metadata": {},
   "outputs": [],
   "source": [
    "class ListGraph:\n",
    "    def __init__(self,size):\n",
    "        self.size = size\n",
    "        self.graph = {}\n",
    "        for i in range(size):\n",
    "            self.graph[i] = set()\n",
    "    \n",
    "    def add_edge(self,u,v):\n",
    "        self.graph[u].add(v)\n",
    "        self.graph[v].add(u)\n",
    "\n",
    "    def remove_edge(self,u,v):\n",
    "        self.graph[u].discard(v)\n",
    "        self.graph[v].discard(u)\n",
    "\n",
    "    def print_graph(self):\n",
    "        for i,j in self.graph.items():\n",
    "            print(f\"{i}:\",end=\" \")\n",
    "            if len(j) == 0:\n",
    "                print()\n",
    "            else:\n",
    "                print(j)\n",
    "\n",
    "    def dfs(self,node,visited:set=set()):\n",
    "\n",
    "        visited.add(node)\n",
    "        #print(node, \"visited\")\n",
    "        for v in self.graph[node]:\n",
    "            if v not in visited:\n",
    "                self.dfs(v,visited)\n",
    "        \n",
    "        return visited\n",
    "    \n",
    "    def dfs_iterative(self,node):\n",
    "        visited = set()\n",
    "        stack = []\n",
    "\n",
    "        stack.append(node)\n",
    "        visited.add(node)\n",
    "        \n",
    "        while stack:\n",
    "            node = stack.pop()\n",
    "            #print(node)\n",
    "\n",
    "            for v in self.graph[node]:\n",
    "                if v not in visited:\n",
    "                    stack.append(v)\n",
    "                    visited.add(v)\n",
    "        return visited\n",
    "    \n",
    "    def bfs(self,node):\n",
    "        visited = set()\n",
    "        queue = deque([])\n",
    "\n",
    "        visited.add(node)\n",
    "        queue.append(node)\n",
    "\n",
    "\n",
    "        while queue:\n",
    "            node = queue.popleft()\n",
    "            #print(node)\n",
    "            for v in self.graph[node]:\n",
    "                if v not in visited:\n",
    "                    queue.append(v)\n",
    "                    visited.add(v)\n",
    "        return visited"
   ]
  },
  {
   "cell_type": "markdown",
   "metadata": {},
   "source": [
    "DFS Full Traversal Test"
   ]
  },
  {
   "cell_type": "code",
   "execution_count": 110,
   "metadata": {},
   "outputs": [
    {
     "name": "stdout",
     "output_type": "stream",
     "text": [
      "Recursion\tIterative\n",
      "0.00100088\t0.02841401\n",
      "0.00099659\t0.02192640\n",
      "0.00100017\t0.01893282\n",
      "0.00100064\t0.01993251\n",
      "0.00099683\t0.02343106\n"
     ]
    }
   ],
   "source": [
    "N = 2000\n",
    "\n",
    "print(\"Recursion\\tIterative\")\n",
    "\n",
    "for test in range(5):\n",
    "\n",
    "    graph = ListGraph(N)\n",
    "\n",
    "    for _ in range(2*N):\n",
    "        graph.add_edge(randint(0,N-1),randint(0,N-1))\n",
    "\n",
    "\n",
    "\n",
    "    start = time()\n",
    "    visited = set()\n",
    "    for i in range(N):\n",
    "        if i not in visited:\n",
    "            visited = graph.dfs(i,visited)\n",
    "    end = time()\n",
    "\n",
    "    print(f\"{end-start:.8f}\",end=\"\\t\")\n",
    "\n",
    "    start = time()\n",
    "    visited = set()\n",
    "    for i in range(N):\n",
    "        if i not in visited:\n",
    "            visited = graph.dfs_iterative(i)\n",
    "    end = time()\n",
    "\n",
    "    print(f\"{end-start:.8f}\")"
   ]
  },
  {
   "cell_type": "markdown",
   "metadata": {},
   "source": [
    "BFS Full Traversal Test"
   ]
  },
  {
   "cell_type": "code",
   "execution_count": 115,
   "metadata": {},
   "outputs": [
    {
     "name": "stdout",
     "output_type": "stream",
     "text": [
      "BFS\t\tDFS\n",
      "0.02454972\t0.02144432\n",
      "0.01898623\t0.01893306\n",
      "0.01296639\t0.01195836\n",
      "0.02064562\t0.01892066\n",
      "0.02492213\t0.02590871\n"
     ]
    }
   ],
   "source": [
    "N = 2000\n",
    "\n",
    "print(\"BFS\\t\\tDFS\")\n",
    "\n",
    "for test in range(5):\n",
    "\n",
    "    graph = ListGraph(N)\n",
    "\n",
    "    for _ in range(2*N):\n",
    "        graph.add_edge(randint(0,N-1),randint(0,N-1))\n",
    "\n",
    "    start = time()\n",
    "    visited = set()\n",
    "    for i in range(N):\n",
    "        if i not in visited:\n",
    "            visited = graph.bfs(i)\n",
    "    end = time()\n",
    "\n",
    "    print(f\"{end-start:.8f}\",end=\"\\t\")\n",
    "\n",
    "    start = time()\n",
    "    visited = set()\n",
    "    for i in range(N):\n",
    "        if i not in visited:\n",
    "            visited = graph.dfs_iterative(i)\n",
    "    end = time()\n",
    "\n",
    "    print(f\"{end-start:.8f}\")"
   ]
  }
 ],
 "metadata": {
  "kernelspec": {
   "display_name": "Python 3",
   "language": "python",
   "name": "python3"
  },
  "language_info": {
   "codemirror_mode": {
    "name": "ipython",
    "version": 3
   },
   "file_extension": ".py",
   "mimetype": "text/x-python",
   "name": "python",
   "nbconvert_exporter": "python",
   "pygments_lexer": "ipython3",
   "version": "3.11.3"
  }
 },
 "nbformat": 4,
 "nbformat_minor": 2
}
