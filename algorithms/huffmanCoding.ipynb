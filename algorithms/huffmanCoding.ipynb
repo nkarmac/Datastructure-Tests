{
 "cells": [
  {
   "cell_type": "markdown",
   "metadata": {},
   "source": [
    "## **Huffman Coding**"
   ]
  },
  {
   "cell_type": "code",
   "execution_count": 105,
   "metadata": {},
   "outputs": [],
   "source": [
    "from time import time\n",
    "from random import randint\n",
    "import heapq"
   ]
  },
  {
   "cell_type": "code",
   "execution_count": 106,
   "metadata": {},
   "outputs": [],
   "source": [
    "class Node:\n",
    "    def __init__(self,data,freq,leaf):\n",
    "        self.data = data\n",
    "        self.freq = freq\n",
    "        self.leaf = leaf\n",
    "        self.left = None\n",
    "        self.right = None\n",
    "\n",
    "    # for heap comparison\n",
    "    def __lt__(self,other):\n",
    "        return self.freq < other.freq"
   ]
  },
  {
   "cell_type": "code",
   "execution_count": 107,
   "metadata": {},
   "outputs": [],
   "source": [
    "def create_huffman_tree(string):\n",
    "    # store characters and frequencies\n",
    "    data = {}\n",
    "    for c in string:\n",
    "        if c in data:\n",
    "            data[c] += 1\n",
    "        else:\n",
    "            data[c] = 1\n",
    "\n",
    "    heap = []\n",
    "    for c,freq in data.items():\n",
    "        heapq.heappush(heap,Node(c,freq,True))\n",
    "\n",
    "    while len(heap) > 1:\n",
    "        left = heapq.heappop(heap)\n",
    "        right = heapq.heappop(heap)\n",
    "\n",
    "        internal = Node('#',left.freq+right.freq,False)\n",
    "        internal.left = left\n",
    "        internal.right = right\n",
    "\n",
    "        heapq.heappush(heap,internal)\n",
    "    \n",
    "    return heapq.heappop(heap)\n",
    "\n",
    "\n",
    "def huffman_codes(root,code,codes):\n",
    "    if not root:\n",
    "        return\n",
    "    if root.leaf:\n",
    "        codes[root.data] = code\n",
    "    huffman_codes(root.left,code+\"0\",codes)\n",
    "    huffman_codes(root.right,code+\"1\",codes)\n",
    "    return codes\n",
    "\n",
    "def encode_huffman(codes,string):\n",
    "    encoding = \"\"\n",
    "    for c in string:\n",
    "        encoding += codes[c]\n",
    "    return encoding\n",
    "\n",
    "def decode_huffman(tree, encoding):\n",
    "    decoding = \"\"\n",
    "    root = tree\n",
    "    for bit in encoding:\n",
    "        if bit == \"0\":\n",
    "            root = root.left\n",
    "        else:\n",
    "            root = root.right\n",
    "        \n",
    "        if root.leaf:\n",
    "            decoding += root.data\n",
    "            root = tree\n",
    "    return decoding\n",
    "        \n",
    "\n"
   ]
  },
  {
   "cell_type": "markdown",
   "metadata": {},
   "source": [
    "Coding + Decoding Tests"
   ]
  },
  {
   "cell_type": "code",
   "execution_count": 111,
   "metadata": {},
   "outputs": [
    {
     "name": "stdout",
     "output_type": "stream",
     "text": [
      "1100001100010011011000010101011101111100111111000101100110101001101000010111101111111100\n",
      "huffman coding example\n"
     ]
    }
   ],
   "source": [
    "string = \"huffman coding example\"\n",
    "tree = create_huffman_tree(string)\n",
    "codes = huffman_codes(tree,\"\",{})\n",
    "encoding = encode_huffman(codes,string)\n",
    "print(encoding)\n",
    "decoding = decode_huffman(tree,encoding)\n",
    "print(decoding)"
   ]
  }
 ],
 "metadata": {
  "kernelspec": {
   "display_name": "Python 3",
   "language": "python",
   "name": "python3"
  },
  "language_info": {
   "codemirror_mode": {
    "name": "ipython",
    "version": 3
   },
   "file_extension": ".py",
   "mimetype": "text/x-python",
   "name": "python",
   "nbconvert_exporter": "python",
   "pygments_lexer": "ipython3",
   "version": "3.11.3"
  }
 },
 "nbformat": 4,
 "nbformat_minor": 2
}
