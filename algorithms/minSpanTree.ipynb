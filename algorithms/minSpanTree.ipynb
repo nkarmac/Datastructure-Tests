{
 "cells": [
  {
   "cell_type": "markdown",
   "metadata": {},
   "source": [
    "## **Minimum Spanning Tree**"
   ]
  },
  {
   "cell_type": "code",
   "execution_count": 116,
   "metadata": {},
   "outputs": [],
   "source": [
    "import networkx as nx\n",
    "from random import randint\n",
    "from time import time\n",
    "import heapq"
   ]
  },
  {
   "cell_type": "code",
   "execution_count": 117,
   "metadata": {},
   "outputs": [],
   "source": [
    "def timer(func):\n",
    "    def wrapper(*args):\n",
    "        start = time()\n",
    "        result = func(*args)\n",
    "        end = time()\n",
    "        print(f\"{end-start:.8f}\")\n",
    "        return result\n",
    "    return wrapper"
   ]
  },
  {
   "cell_type": "markdown",
   "metadata": {},
   "source": [
    "Random Connected Weighted Graph"
   ]
  },
  {
   "cell_type": "code",
   "execution_count": 118,
   "metadata": {},
   "outputs": [],
   "source": [
    "nodes = 300\n",
    "G = nx.gnp_random_graph(nodes,0.5,directed=False)\n",
    "for (u,v,w) in G.edges(data=True):\n",
    "    w['weight'] = randint(1,20)"
   ]
  },
  {
   "cell_type": "code",
   "execution_count": 119,
   "metadata": {},
   "outputs": [],
   "source": [
    "def find(parent,x):\n",
    "    if parent[x] == x:\n",
    "        return x\n",
    "    return find(parent,parent[x])\n",
    "\n",
    "def union(parent,x,y):\n",
    "    x_root = find(parent,x)\n",
    "    y_root = find(parent,y)\n",
    "\n",
    "    if x_root != y_root:\n",
    "        parent[y_root] = x_root\n",
    "\n",
    "@timer\n",
    "def kruskal(G):\n",
    "    min_span_tree = {}\n",
    "    parent = []\n",
    "    total_weight = 0\n",
    "    for i in G.nodes():\n",
    "        parent.insert(i,i)\n",
    "\n",
    "    for u,v,w in sorted(G.edges(data=True),key=lambda x: x[2]['weight']):\n",
    "        if find(parent,u) != find(parent,v):\n",
    "            min_span_tree[u] = (v,w['weight'])\n",
    "            min_span_tree[v] = (v,w['weight'])\n",
    "            total_weight += w['weight']\n",
    "            union(parent,u,v)\n",
    "    \n",
    "    return min_span_tree,total_weight\n",
    "\n",
    "\n",
    "@timer\n",
    "def prim(G):\n",
    "    min_span_tree = {}\n",
    "    total_weight = 0\n",
    "    cost = [float('inf') for _ in range(nodes)]\n",
    "    visited = []\n",
    "    heap = []\n",
    "\n",
    "    visited.append(0)\n",
    "    for u,v,w in G.edges(0,data=True):\n",
    "        heapq.heappush(heap,(w['weight'],u,v))\n",
    "\n",
    "    while heap:\n",
    "        weight,v,u = heapq.heappop(heap)\n",
    "        if u not in visited:\n",
    "            visited.append(u)\n",
    "            min_span_tree[v] = (u,weight)\n",
    "            min_span_tree[u] = (v,weight)\n",
    "            total_weight += weight\n",
    "\n",
    "            for _,v,w in G.edges(u,data=True):\n",
    "                if v not in visited and w['weight'] < cost[v]:\n",
    "                    cost[v] = w['weight']\n",
    "                    heapq.heappush(heap,(w['weight'],u,v))\n",
    "    \n",
    "    return min_span_tree,total_weight\n"
   ]
  },
  {
   "cell_type": "markdown",
   "metadata": {},
   "source": [
    "Minimum Spanning Tree Tests"
   ]
  },
  {
   "cell_type": "code",
   "execution_count": 120,
   "metadata": {},
   "outputs": [
    {
     "name": "stdout",
     "output_type": "stream",
     "text": [
      "Kruskal\n",
      "0.05451322\n",
      "0.05499983\n",
      "0.05622411\n",
      "0.07916069\n",
      "0.05765820\n",
      "Prim\n",
      "0.03003883\n",
      "0.03399968\n",
      "0.02899957\n",
      "0.02700520\n",
      "0.02751541\n"
     ]
    }
   ],
   "source": [
    "print(\"Kruskal\")\n",
    "for test in range(5):\n",
    "    mst, k_weight = kruskal(G)\n",
    "print(\"\\nPrim\")\n",
    "for test in range(5):\n",
    "    mst, p_weight = prim(G)\n",
    "\n",
    "assert(k_weight == p_weight)"
   ]
  }
 ],
 "metadata": {
  "kernelspec": {
   "display_name": "Python 3",
   "language": "python",
   "name": "python3"
  },
  "language_info": {
   "codemirror_mode": {
    "name": "ipython",
    "version": 3
   },
   "file_extension": ".py",
   "mimetype": "text/x-python",
   "name": "python",
   "nbconvert_exporter": "python",
   "pygments_lexer": "ipython3",
   "version": "3.11.3"
  }
 },
 "nbformat": 4,
 "nbformat_minor": 2
}
