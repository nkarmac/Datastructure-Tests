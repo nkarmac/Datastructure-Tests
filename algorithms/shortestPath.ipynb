{
 "cells": [
  {
   "cell_type": "markdown",
   "metadata": {},
   "source": [
    "## **Shortest Path**"
   ]
  },
  {
   "cell_type": "code",
   "execution_count": 2,
   "metadata": {},
   "outputs": [],
   "source": [
    "import networkx as nx\n",
    "from random import randint\n",
    "from time import time\n",
    "import heapq"
   ]
  },
  {
   "cell_type": "markdown",
   "metadata": {},
   "source": [
    "Random Connected Weighted Graph"
   ]
  },
  {
   "cell_type": "code",
   "execution_count": 44,
   "metadata": {},
   "outputs": [],
   "source": [
    "nodes = 10\n",
    "G = nx.gnp_random_graph(nodes,0.5,directed=False)\n",
    "for (u,v,w) in G.edges(data=True):\n",
    "    w['weight'] = randint(1,20)"
   ]
  },
  {
   "cell_type": "code",
   "execution_count": 56,
   "metadata": {},
   "outputs": [],
   "source": [
    "def dijkstra(s):\n",
    "    visited = []\n",
    "    heap = []\n",
    "    distance = [float('inf') for _ in range(nodes)]\n",
    "\n",
    "    distance[s] = 0\n",
    "    visited.append(s)\n",
    "    heapq.heappush(heap,(0,s))\n",
    "\n",
    "    while heap:\n",
    "        (dist,u) = heapq.heappop(heap)\n",
    "        visited.append(u)\n",
    "\n",
    "        for _,v,w in G.edges(u,data=True):\n",
    "            if v not in visited:\n",
    "                if dist + w['weight'] < distance[v]:\n",
    "                    distance[v] = dist + w['weight']\n",
    "                    heapq.heappush(heap,(distance[v],v))\n",
    "    \n",
    "    return distance\n",
    "\n"
   ]
  }
 ],
 "metadata": {
  "kernelspec": {
   "display_name": "Python 3",
   "language": "python",
   "name": "python3"
  },
  "language_info": {
   "codemirror_mode": {
    "name": "ipython",
    "version": 3
   },
   "file_extension": ".py",
   "mimetype": "text/x-python",
   "name": "python",
   "nbconvert_exporter": "python",
   "pygments_lexer": "ipython3",
   "version": "3.11.3"
  }
 },
 "nbformat": 4,
 "nbformat_minor": 2
}
