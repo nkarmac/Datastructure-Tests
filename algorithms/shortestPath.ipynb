{
 "cells": [
  {
   "cell_type": "markdown",
   "metadata": {},
   "source": [
    "## **Shortest Path**"
   ]
  },
  {
   "cell_type": "code",
   "execution_count": 110,
   "metadata": {},
   "outputs": [],
   "source": [
    "import networkx as nx\n",
    "from random import randint\n",
    "from time import time\n",
    "import heapq"
   ]
  },
  {
   "cell_type": "code",
   "execution_count": 111,
   "metadata": {},
   "outputs": [],
   "source": [
    "def timer(func):\n",
    "    def wrapper(*args):\n",
    "        start = time()\n",
    "        result = func(*args)\n",
    "        end = time()\n",
    "        print(f\"{end-start:.8f}\")\n",
    "        return result\n",
    "    return wrapper"
   ]
  },
  {
   "cell_type": "markdown",
   "metadata": {},
   "source": [
    "Random Connected Weighted Graph"
   ]
  },
  {
   "cell_type": "code",
   "execution_count": 129,
   "metadata": {},
   "outputs": [],
   "source": [
    "nodes = 300\n",
    "G = nx.gnp_random_graph(nodes,0.5,directed=False)\n",
    "for (u,v,w) in G.edges(data=True):\n",
    "    w['weight'] = randint(1,20)"
   ]
  },
  {
   "cell_type": "code",
   "execution_count": 132,
   "metadata": {},
   "outputs": [],
   "source": [
    "@timer\n",
    "def dijkstra(s):\n",
    "    visited = []\n",
    "    heap = []\n",
    "    distance = [float('inf') for _ in range(nodes)]\n",
    "\n",
    "    distance[s] = 0\n",
    "    visited.append(s)\n",
    "    heapq.heappush(heap,(0,s))\n",
    "\n",
    "    while heap:\n",
    "        (dist,u) = heapq.heappop(heap)\n",
    "        visited.append(u)\n",
    "\n",
    "        for _,v,w in G.edges(u,data=True):\n",
    "            if v not in visited:\n",
    "                if dist + w['weight'] < distance[v]:\n",
    "                    distance[v] = dist + w['weight']\n",
    "                    heapq.heappush(heap,(distance[v],v))\n",
    "    return distance\n",
    "\n",
    "@timer\n",
    "def bellman_ford(s):\n",
    "    distance = [float('inf') for _ in range(nodes)]\n",
    "\n",
    "    distance[s] = 0\n",
    "\n",
    "    for _ in range(nodes-1):\n",
    "        updated = False\n",
    "        for u in G.nodes():\n",
    "            for _,v,w in G.edges(u,data=True):\n",
    "                if distance[u] != float('inf') and distance[u] + w['weight'] < distance[v]:\n",
    "                    distance[v] = distance[u] + w['weight']\n",
    "                    updated = True\n",
    "        if not updated:\n",
    "            break\n",
    "\n",
    "    # Check for negative cycles\n",
    "    for u in G.nodes():\n",
    "        for _,v,w in G.edges(u,data=True):\n",
    "            if distance[u] != float('inf') and distance[u] + w['weight'] < distance[v]:\n",
    "                print(\"Negative Cycle Detected\")\n",
    "                return False\n",
    "                \n",
    "    return distance\n"
   ]
  },
  {
   "cell_type": "markdown",
   "metadata": {},
   "source": [
    "Shortest Path Tests"
   ]
  },
  {
   "cell_type": "code",
   "execution_count": 135,
   "metadata": {},
   "outputs": [
    {
     "name": "stdout",
     "output_type": "stream",
     "text": [
      "Dijkstra's\n",
      "0.09619546\n",
      "0.08820391\n",
      "0.08806849\n",
      "0.08522320\n",
      "0.08722019\n",
      "\n",
      "Bellman Ford\n",
      "0.04484916\n",
      "0.04438066\n",
      "0.04484653\n",
      "0.04438162\n",
      "0.04417467\n"
     ]
    }
   ],
   "source": [
    "d = []\n",
    "bm = []\n",
    "\n",
    "print(\"Dijkstra's\")\n",
    "for test in range(5):\n",
    "    d = dijkstra(0)\n",
    "print(\"\\nBellman Ford\")\n",
    "for test in range(5):\n",
    "    bm = bellman_ford(0)\n",
    "\n",
    "\n",
    "assert(d == bm)"
   ]
  }
 ],
 "metadata": {
  "kernelspec": {
   "display_name": "Python 3",
   "language": "python",
   "name": "python3"
  },
  "language_info": {
   "codemirror_mode": {
    "name": "ipython",
    "version": 3
   },
   "file_extension": ".py",
   "mimetype": "text/x-python",
   "name": "python",
   "nbconvert_exporter": "python",
   "pygments_lexer": "ipython3",
   "version": "3.11.3"
  }
 },
 "nbformat": 4,
 "nbformat_minor": 2
}
