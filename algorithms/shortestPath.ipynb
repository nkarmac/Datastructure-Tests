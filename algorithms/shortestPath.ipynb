{
 "cells": [
  {
   "cell_type": "markdown",
   "metadata": {},
   "source": [
    "## **Shortest Path**"
   ]
  },
  {
   "cell_type": "code",
   "execution_count": 59,
   "metadata": {},
   "outputs": [],
   "source": [
    "import networkx as nx\n",
    "from random import randint\n",
    "from time import time\n",
    "import heapq"
   ]
  },
  {
   "cell_type": "code",
   "execution_count": 60,
   "metadata": {},
   "outputs": [],
   "source": [
    "def timer(func):\n",
    "    def wrapper(*args):\n",
    "        start = time()\n",
    "        result = func(*args)\n",
    "        end = time()\n",
    "        print(f\"{end-start:.8f}\")\n",
    "        return result\n",
    "    return wrapper"
   ]
  },
  {
   "cell_type": "markdown",
   "metadata": {},
   "source": [
    "Random Connected Weighted Graph"
   ]
  },
  {
   "cell_type": "code",
   "execution_count": 61,
   "metadata": {},
   "outputs": [],
   "source": [
    "nodes = 150\n",
    "G = nx.gnp_random_graph(nodes,0.5,directed=False)\n",
    "for (u,v,w) in G.edges(data=True):\n",
    "    w['weight'] = randint(1,20)"
   ]
  },
  {
   "cell_type": "code",
   "execution_count": 62,
   "metadata": {},
   "outputs": [],
   "source": [
    "@timer\n",
    "def dijkstra(s):\n",
    "    visited = []\n",
    "    heap = []\n",
    "    distance = [float('inf') for _ in range(nodes)]\n",
    "\n",
    "    distance[s] = 0\n",
    "    visited.append(s)\n",
    "    heapq.heappush(heap,(0,s))\n",
    "\n",
    "    while heap:\n",
    "        (dist,u) = heapq.heappop(heap)\n",
    "        if u not in visited:\n",
    "            visited.append(u)\n",
    "\n",
    "        for _,v,w in G.edges(u,data=True):\n",
    "            if v not in visited:\n",
    "                if dist + w['weight'] < distance[v]:\n",
    "                    distance[v] = dist + w['weight']\n",
    "                    heapq.heappush(heap,(distance[v],v))\n",
    "    return distance\n",
    "\n",
    "@timer\n",
    "def bellman_ford(s):\n",
    "    distance = [float('inf') for _ in range(nodes)]\n",
    "\n",
    "    distance[s] = 0\n",
    "\n",
    "    for _ in range(nodes-1):\n",
    "        updated = False\n",
    "        for u in G.nodes():\n",
    "            for _,v,w in G.edges(u,data=True):\n",
    "                if distance[u] != float('inf') and distance[u] + w['weight'] < distance[v]:\n",
    "                    distance[v] = distance[u] + w['weight']\n",
    "                    updated = True\n",
    "        if not updated:\n",
    "            break\n",
    "\n",
    "    # Check for negative cycles\n",
    "    for u in G.nodes():\n",
    "        for _,v,w in G.edges(u,data=True):\n",
    "            if distance[u] != float('inf') and distance[u] + w['weight'] < distance[v]:\n",
    "                print(\"Negative Cycle Detected\")\n",
    "                return False\n",
    "                \n",
    "    return distance\n",
    "\n",
    "@timer\n",
    "def floyd_warshall(G):\n",
    "    path_graph = [[float('inf') for _ in range(nodes)] for i in range(nodes)]\n",
    "    for i in range(nodes):\n",
    "        path_graph[i][i] = 0\n",
    "    \n",
    "    for u,v,w in G.edges(data=True):\n",
    "        path_graph[u][v] = w['weight']\n",
    "        # for undirected graph\n",
    "        path_graph[v][u] = w['weight']\n",
    "\n",
    "    for k in range(nodes):\n",
    "        for i in range(nodes):\n",
    "            for j in range(nodes):\n",
    "                path_graph[i][j] = min(path_graph[i][j],path_graph[i][k] + path_graph[k][j])\n"
   ]
  },
  {
   "cell_type": "markdown",
   "metadata": {},
   "source": [
    "Shortest Path Tests"
   ]
  },
  {
   "cell_type": "code",
   "execution_count": 63,
   "metadata": {},
   "outputs": [
    {
     "name": "stdout",
     "output_type": "stream",
     "text": [
      "Dijkstra's\n",
      "0.01399875\n",
      "0.01300216\n",
      "0.01399899\n",
      "0.01299930\n",
      "0.01200032\n",
      "\n",
      "Bellman Ford\n",
      "0.01599979\n",
      "0.01597619\n",
      "0.01705551\n",
      "0.01500130\n",
      "0.01499844\n",
      "\n",
      "Floyd Warshall\n",
      "0.36208534\n",
      "0.34499955\n",
      "0.35950994\n",
      "0.33930278\n",
      "0.34299660\n"
     ]
    }
   ],
   "source": [
    "d = []\n",
    "bm = []\n",
    "\n",
    "print(\"Dijkstra's\")\n",
    "for test in range(5):\n",
    "    d = dijkstra(0)\n",
    "print(\"\\nBellman Ford\")\n",
    "for test in range(5):\n",
    "    bm = bellman_ford(0)\n",
    "\n",
    "assert(d == bm)\n",
    "\n",
    "print(\"\\nFloyd Warshall\")\n",
    "for test in range(5):\n",
    "    floyd_warshall(G)"
   ]
  }
 ],
 "metadata": {
  "kernelspec": {
   "display_name": "Python 3",
   "language": "python",
   "name": "python3"
  },
  "language_info": {
   "codemirror_mode": {
    "name": "ipython",
    "version": 3
   },
   "file_extension": ".py",
   "mimetype": "text/x-python",
   "name": "python",
   "nbconvert_exporter": "python",
   "pygments_lexer": "ipython3",
   "version": "3.11.3"
  }
 },
 "nbformat": 4,
 "nbformat_minor": 2
}
