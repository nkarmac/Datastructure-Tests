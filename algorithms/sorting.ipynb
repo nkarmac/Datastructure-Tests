{
 "cells": [
  {
   "cell_type": "markdown",
   "metadata": {},
   "source": [
    "## **Sorting Algorithms**"
   ]
  },
  {
   "cell_type": "code",
   "execution_count": 57,
   "metadata": {},
   "outputs": [],
   "source": [
    "from time import time\n",
    "from random import randint"
   ]
  },
  {
   "cell_type": "markdown",
   "metadata": {},
   "source": [
    "Timer Decorator"
   ]
  },
  {
   "cell_type": "code",
   "execution_count": 58,
   "metadata": {},
   "outputs": [],
   "source": [
    "def timer(func):\n",
    "    def wrapper(*args,**kwargs):\n",
    "        start = time()\n",
    "        func(*args,**kwargs)\n",
    "        end = time()\n",
    "        print(f\"{end-start:.8}\")\n",
    "    return wrapper"
   ]
  },
  {
   "cell_type": "code",
   "execution_count": 59,
   "metadata": {},
   "outputs": [],
   "source": [
    "\n",
    "\n",
    "@timer\n",
    "def bubble_sort(list):\n",
    "    for i in range(len(list)):\n",
    "        swapped = False\n",
    "        for j in range(len(list)-i-1):\n",
    "            if list[j] > list[j+1]:\n",
    "                list[j],list[j+1] = list[j+1], list[j]\n",
    "                swapped = True\n",
    "        if not swapped:\n",
    "            break\n",
    "\n",
    "@timer\n",
    "def selection_sort(list):\n",
    "    for i in range(len(list)-1):\n",
    "        smallest = i\n",
    "        for j in range(i+1, len(list)):\n",
    "            if list[j] < list[smallest]:\n",
    "                smallest = j\n",
    "        if smallest != i:\n",
    "            list[i],list[smallest] = list[smallest],list[i]\n",
    "\n",
    "@timer\n",
    "def insertion_sort(list):\n",
    "    for i in range(1,len(list)):\n",
    "        key = list[i]\n",
    "        j = i-1\n",
    "        while j>=0 and key < list[j]:\n",
    "            list[j+1] = list[j]\n",
    "            j = j-1\n",
    "        list[j+1] = key\n"
   ]
  },
  {
   "cell_type": "markdown",
   "metadata": {},
   "source": [
    "Sort Tests"
   ]
  },
  {
   "cell_type": "code",
   "execution_count": 64,
   "metadata": {},
   "outputs": [
    {
     "name": "stdout",
     "output_type": "stream",
     "text": [
      "Bubble Sort\n",
      "0.032999992\n",
      "Selection Sort\n",
      "0.016998053\n",
      "Insertion Sort\n",
      "0.010062218\n"
     ]
    }
   ],
   "source": [
    "N = 1000\n",
    "test = [randint(0,1000) for x in range(N)]\n",
    "\n",
    "# create copy\n",
    "bubble_test = test[:]\n",
    "print(\"Bubble Sort\")\n",
    "bubble_sort(bubble_test)\n",
    "\n",
    "selection_test = test[:]\n",
    "print(\"Selection Sort\")\n",
    "selection_sort(selection_test)\n",
    "\n",
    "insertion_test = test[:]\n",
    "print(\"Insertion Sort\")\n",
    "insertion_sort(insertion_test)"
   ]
  }
 ],
 "metadata": {
  "kernelspec": {
   "display_name": "Python 3",
   "language": "python",
   "name": "python3"
  },
  "language_info": {
   "codemirror_mode": {
    "name": "ipython",
    "version": 3
   },
   "file_extension": ".py",
   "mimetype": "text/x-python",
   "name": "python",
   "nbconvert_exporter": "python",
   "pygments_lexer": "ipython3",
   "version": "3.11.3"
  }
 },
 "nbformat": 4,
 "nbformat_minor": 2
}
