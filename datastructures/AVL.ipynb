{
 "cells": [
  {
   "cell_type": "markdown",
   "metadata": {},
   "source": [
    "## **AVL**"
   ]
  },
  {
   "cell_type": "code",
   "execution_count": 222,
   "metadata": {},
   "outputs": [],
   "source": [
    "from time import time\n",
    "from random import randint"
   ]
  },
  {
   "cell_type": "code",
   "execution_count": 223,
   "metadata": {},
   "outputs": [],
   "source": [
    "class Node:\n",
    "    def __init__(self, data):\n",
    "        self.data = data\n",
    "        self.left = None\n",
    "        self.right = None\n",
    "        self.height = 1"
   ]
  },
  {
   "cell_type": "code",
   "execution_count": 224,
   "metadata": {},
   "outputs": [],
   "source": [
    "class AVLTree:\n",
    "    def insert(self,root,data):\n",
    "        # insert data\n",
    "        if not root:\n",
    "            return Node(data)\n",
    "        # move down tree\n",
    "        if data < root.data:\n",
    "            root.left = self.insert(root.left,data)\n",
    "        elif data > root.data:\n",
    "            root.right = self.insert(root.right,data)\n",
    "        \n",
    "        # update height\n",
    "        root.height = 1 + max(self.getHeight(root.left), self.getHeight(root.right))\n",
    "\n",
    "        # right or left rotate\n",
    "        balanceFactor = self.getBalance(root)\n",
    "\n",
    "        if balanceFactor > 1:\n",
    "            if data < root.left.data:\n",
    "                return self.rightRotate(root)\n",
    "            else:\n",
    "                root.left = self.leftRotate(root.left)\n",
    "                return self.rightRotate(root)\n",
    "        if balanceFactor < -1:\n",
    "            if data > root.right.data:\n",
    "                return self.leftRotate(root)\n",
    "            else:\n",
    "                root.right = self.rightRotate(root.right)\n",
    "                return self.leftRotate(root)\n",
    "        \n",
    "        return root\n",
    "    \n",
    "    def delete(self, root, target):\n",
    "        if not root:\n",
    "            return root\n",
    "        elif target < root.data:\n",
    "            root.left = self.delete(root.left,target)\n",
    "        elif target > root.data:\n",
    "            root.right = self.delete(root.right,target)\n",
    "        else:\n",
    "            # if root.left is None and root.right is None:\n",
    "            #     return None\n",
    "            if root.left is None:\n",
    "                temp = root.right\n",
    "                root = None\n",
    "                return temp\n",
    "            elif root.right is None:\n",
    "                temp = root.left\n",
    "                root = None\n",
    "                return temp\n",
    "            # 2 children\n",
    "            temp = self.getNextMin(root.right)\n",
    "            root.data = temp.data\n",
    "            root.right = self.delete(root.right, temp.data)\n",
    "\n",
    "        # return empty tree\n",
    "        if root is None:\n",
    "            return root\n",
    "\n",
    "        root.height = 1 + max(self.getHeight(root.left), self.getHeight(root.right))\n",
    "\n",
    "        balanceFactor = self.getBalance(root)\n",
    "\n",
    "        if balanceFactor > 1:\n",
    "            if self.getBalance(root.left) >= 0:\n",
    "                return self.rightRotate(root)\n",
    "            else:\n",
    "                root.left = self.leftRotate(root.left)\n",
    "                return self.rightRotate(root)\n",
    "        if balanceFactor < -1:\n",
    "            if self.getBalance(root.right) <= 0:\n",
    "                return self.leftRotate(root)\n",
    "            else:\n",
    "                root.right = self.rightRotate(root.right)\n",
    "                return self.leftRotate(root)\n",
    "            \n",
    "        return root\n",
    "    \n",
    "\n",
    "    def search(self,root,data):\n",
    "        if not root:\n",
    "            return False\n",
    "        if root.data == data:\n",
    "            return True\n",
    "        elif data < root.data:\n",
    "            self.search(root.left,data)\n",
    "        else:\n",
    "            self.search(root.right, data)\n",
    "\n",
    "    def getNextMin(self,root):\n",
    "        if not root or not root.left:\n",
    "            return root\n",
    "        return self.getNextMin(root.left)\n",
    "\n",
    "\n",
    "    def getHeight(self, node):\n",
    "        if not node:\n",
    "            return 0\n",
    "        return node.height\n",
    "\n",
    "    def getBalance(self,node):\n",
    "        if not node:\n",
    "            return 0\n",
    "        return self.getHeight(node.left) - self.getHeight(node.right)\n",
    "    \n",
    "    def leftRotate(self, node):\n",
    "        B = node.right\n",
    "        y = B.left\n",
    "\n",
    "        B.left = node\n",
    "        node.right = y\n",
    "\n",
    "        node.height = 1 + max(self.getHeight(node.left), self.getHeight(node.right))\n",
    "        B.height = 1 + max(self.getHeight(B.left), self.getHeight(B.right))\n",
    "\n",
    "        return B\n",
    "    \n",
    "    def rightRotate(self, node):\n",
    "        B = node.left\n",
    "        y = B.right\n",
    "\n",
    "        B.right = node\n",
    "        node.left = y\n",
    "\n",
    "        node.height = 1 + max(self.getHeight(node.left), self.getHeight(node.right))\n",
    "        B.height = 1 + max(self.getHeight(B.left), self.getHeight(B.right))\n",
    "\n",
    "        return B\n",
    "    \n",
    "    def inOrder(self, node):\n",
    "        if not node:\n",
    "            return\n",
    "        self.inOrder(node.left)\n",
    "        print(node.data, end=\" \")\n",
    "        self.inOrder(node.right)"
   ]
  },
  {
   "cell_type": "markdown",
   "metadata": {},
   "source": [
    "Insert Test"
   ]
  },
  {
   "cell_type": "code",
   "execution_count": 304,
   "metadata": {},
   "outputs": [
    {
     "name": "stdout",
     "output_type": "stream",
     "text": [
      "0.34942389\n",
      "0.34395981\n",
      "0.33632278\n",
      "0.33102775\n",
      "0.33962870\n"
     ]
    }
   ],
   "source": [
    "N = 100000\n",
    "\n",
    "AVL = AVLTree()\n",
    "\n",
    "for test in range(5):\n",
    "\n",
    "    root = None\n",
    "\n",
    "    start = time()\n",
    "    for _ in range(N):\n",
    "        root = AVL.insert(root,randint(0,1000))\n",
    "    end = time()\n",
    "\n",
    "    print(f\"{end-start:.8f}\")"
   ]
  },
  {
   "cell_type": "markdown",
   "metadata": {},
   "source": [
    "Search"
   ]
  },
  {
   "cell_type": "code",
   "execution_count": 338,
   "metadata": {},
   "outputs": [
    {
     "name": "stdout",
     "output_type": "stream",
     "text": [
      "0.00000000\n"
     ]
    }
   ],
   "source": [
    "start = time()\n",
    "AVL.search(root, randint(0,1000))\n",
    "end = time()\n",
    "\n",
    "print(f\"{end-start:.8f}\")"
   ]
  },
  {
   "cell_type": "markdown",
   "metadata": {},
   "source": [
    "Delete"
   ]
  },
  {
   "cell_type": "code",
   "execution_count": 339,
   "metadata": {},
   "outputs": [
    {
     "name": "stdout",
     "output_type": "stream",
     "text": [
      "0.01745892\n",
      "0.01825833\n",
      "0.01793981\n",
      "0.01765156\n",
      "0.01793981\n"
     ]
    }
   ],
   "source": [
    "N = 100000\n",
    "\n",
    "nums = [randint(0,1000) for x in range(N)]\n",
    "\n",
    "for test in range(5):\n",
    "    \n",
    "    root = None\n",
    "    for i in nums:\n",
    "        root = AVL.insert(root,i)\n",
    "\n",
    "    start = time()\n",
    "    for i in nums:\n",
    "        root = AVL.delete(root, i)\n",
    "    end = time()\n",
    "\n",
    "    print(f\"{end-start:.8f}\")\n"
   ]
  }
 ],
 "metadata": {
  "kernelspec": {
   "display_name": "Python 3",
   "language": "python",
   "name": "python3"
  },
  "language_info": {
   "codemirror_mode": {
    "name": "ipython",
    "version": 3
   },
   "file_extension": ".py",
   "mimetype": "text/x-python",
   "name": "python",
   "nbconvert_exporter": "python",
   "pygments_lexer": "ipython3",
   "version": "3.11.3"
  }
 },
 "nbformat": 4,
 "nbformat_minor": 2
}
