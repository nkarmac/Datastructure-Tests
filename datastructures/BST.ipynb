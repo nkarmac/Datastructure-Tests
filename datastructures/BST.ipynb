{
 "cells": [
  {
   "cell_type": "markdown",
   "metadata": {},
   "source": [
    "## **Binary Search Tree**"
   ]
  },
  {
   "cell_type": "code",
   "execution_count": 61,
   "metadata": {},
   "outputs": [],
   "source": [
    "from time import time\n",
    "from random import randint\n",
    "\n",
    "# def timer(func, n):\n",
    "#     def wrapper(*args):\n",
    "#         start = time()\n",
    "#         for i in range(n):\n",
    "#             result = func(*args)\n",
    "#         end = time()\n",
    "#         print(f\"{end-start:.8f}\")\n",
    "#         return result\n",
    "#     return wrapper"
   ]
  },
  {
   "cell_type": "markdown",
   "metadata": {},
   "source": [
    "Node Class"
   ]
  },
  {
   "cell_type": "code",
   "execution_count": 63,
   "metadata": {},
   "outputs": [],
   "source": [
    "class Node:\n",
    "    def __init__(self,data):\n",
    "        self.data = data\n",
    "        self.left = None\n",
    "        self.right = None"
   ]
  },
  {
   "cell_type": "markdown",
   "metadata": {},
   "source": [
    "Tree Creation"
   ]
  },
  {
   "cell_type": "code",
   "execution_count": 64,
   "metadata": {},
   "outputs": [],
   "source": [
    "def insertBinaryTree(root, data):\n",
    "    if not root:\n",
    "        return Node(data)\n",
    "    elif data < root.data:\n",
    "        root.left = insertBinaryTree(root.left,data)\n",
    "    elif data > root.data:\n",
    "        root.right = insertBinaryTree(root.right, data)\n",
    "    return root\n",
    "\n",
    "def search(root, data):\n",
    "    if not root:\n",
    "        return False\n",
    "    elif data == root.data:\n",
    "        return True\n",
    "    elif data < root.data:\n",
    "        search(root.left,data)\n",
    "    else:\n",
    "        search(root.right,data)\n"
   ]
  },
  {
   "cell_type": "markdown",
   "metadata": {},
   "source": [
    "Traversals"
   ]
  },
  {
   "cell_type": "code",
   "execution_count": 65,
   "metadata": {},
   "outputs": [],
   "source": [
    "def inOrder(root):\n",
    "    if root:\n",
    "        inOrder(root.left)\n",
    "        print(root.data)\n",
    "        inOrder(root.right)\n",
    "\n",
    "def preOrder(root):\n",
    "    if root:\n",
    "        print(root.data)\n",
    "        inOrder(root.left)\n",
    "        inOrder(root.right)\n",
    "\n",
    "def postOrder(root):\n",
    "    if root:\n",
    "        inOrder(root.left)\n",
    "        inOrder(root.right)\n",
    "        print(root.data)\n"
   ]
  },
  {
   "cell_type": "markdown",
   "metadata": {},
   "source": [
    "Class Version"
   ]
  },
  {
   "cell_type": "code",
   "execution_count": 66,
   "metadata": {},
   "outputs": [],
   "source": [
    "class BinaryTree:\n",
    "    def __init__(self):\n",
    "        self.root = None\n",
    "    \n",
    "    def add(self, data):\n",
    "        if not self.root:\n",
    "            self.root = Node(data)\n",
    "        else:\n",
    "            self._add(self.root,data)\n",
    "\n",
    "    def _add(self,root:Node,data):\n",
    "        if data < root.data:\n",
    "            if not root.left:\n",
    "                root.left = Node(data)\n",
    "            else:\n",
    "                self._add(root.left, data)\n",
    "        elif data > root.data:\n",
    "            if not root.right:\n",
    "                root.right = Node(data)\n",
    "            else:\n",
    "                self._add(root.right, data)"
   ]
  },
  {
   "cell_type": "markdown",
   "metadata": {},
   "source": [
    "Class & Global Insert Test"
   ]
  },
  {
   "cell_type": "code",
   "execution_count": 68,
   "metadata": {},
   "outputs": [
    {
     "name": "stdout",
     "output_type": "stream",
     "text": [
      "Class Tree\tGlobal Tree\n",
      "0.10623026\t0.10334110\n",
      "0.10540462\t0.11015296\n",
      "0.10467339\t0.10304403\n",
      "0.10328913\t0.10731816\n",
      "0.11129975\t0.10415149\n"
     ]
    }
   ],
   "source": [
    "N = 100000\n",
    "\n",
    "print(\"Class Tree\\tGlobal Tree\")\n",
    "\n",
    "for test in range(5):\n",
    "\n",
    "    testTree = BinaryTree()\n",
    "    start = time()\n",
    "    for _ in range(N):\n",
    "        testTree.add(randint(0,1000))\n",
    "    end = time()\n",
    "\n",
    "    print(f\"{end-start:.8f}\", end=\"\")\n",
    "\n",
    "    root = None\n",
    "    start = time()\n",
    "    for _ in range(N):\n",
    "        root = insertBinaryTree(root, randint(0,1000))\n",
    "    end = time()\n",
    "\n",
    "    print(f\"\\t{end-start:.8f}\")"
   ]
  },
  {
   "cell_type": "markdown",
   "metadata": {},
   "source": [
    "Traversal Test"
   ]
  },
  {
   "cell_type": "code",
   "execution_count": null,
   "metadata": {},
   "outputs": [],
   "source": [
    "print(\"Class Tree\\tGlobal Tree\")\n",
    "\n",
    "for test in range(5):\n",
    "    start = time()\n",
    "    inOrder(testTree.root)\n",
    "    end = time()\n",
    "    print(f\"{end-start:.8f}\",end=\"\")\n",
    "\n",
    "    start = time()\n",
    "    inOrder(root)\n",
    "    end = time()\n",
    "    print(f\"\\t{end-start:.8f}\")"
   ]
  },
  {
   "cell_type": "markdown",
   "metadata": {},
   "source": [
    "Search Test"
   ]
  },
  {
   "cell_type": "code",
   "execution_count": 71,
   "metadata": {},
   "outputs": [
    {
     "name": "stdout",
     "output_type": "stream",
     "text": [
      "0.10573101\n",
      "0.10747576\n",
      "0.10528946\n",
      "0.10708261\n",
      "0.10926175\n"
     ]
    }
   ],
   "source": [
    "N = 100000\n",
    "\n",
    "root = None\n",
    "for _ in range(N):\n",
    "    root = insertBinaryTree(root, randint(0,1000))\n",
    "\n",
    "for test in range(5):\n",
    "    start = time()\n",
    "    for _ in range(N):\n",
    "        search(root,randint(0,1000))\n",
    "    end = time()\n",
    "\n",
    "    print(f\"{end-start:.8f}\")\n"
   ]
  }
 ],
 "metadata": {
  "kernelspec": {
   "display_name": "Python 3",
   "language": "python",
   "name": "python3"
  },
  "language_info": {
   "codemirror_mode": {
    "name": "ipython",
    "version": 3
   },
   "file_extension": ".py",
   "mimetype": "text/x-python",
   "name": "python",
   "nbconvert_exporter": "python",
   "pygments_lexer": "ipython3",
   "version": "3.11.3"
  }
 },
 "nbformat": 4,
 "nbformat_minor": 2
}
