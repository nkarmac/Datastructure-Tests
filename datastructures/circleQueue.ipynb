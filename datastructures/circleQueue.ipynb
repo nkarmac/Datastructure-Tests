{
 "cells": [
  {
   "cell_type": "markdown",
   "metadata": {},
   "source": [
    "## **Circle Queue**"
   ]
  },
  {
   "cell_type": "code",
   "execution_count": 2,
   "metadata": {},
   "outputs": [],
   "source": [
    "from time import time\n",
    "from random import random"
   ]
  },
  {
   "cell_type": "code",
   "execution_count": 3,
   "metadata": {},
   "outputs": [],
   "source": [
    "class circleQueue:\n",
    "    def __init__(self, size):\n",
    "        self.head = -1\n",
    "        self.tail = -1\n",
    "        self.size = size\n",
    "        self.queue = [None]*size\n",
    "\n",
    "    def checkFull(self):\n",
    "        return (self.head == 0 and self.tail == self.size-1) or (self.head == self.tail + 1)\n",
    "    \n",
    "    def enqueue(self, item):\n",
    "        # check if full\n",
    "        if self.checkFull():\n",
    "            print(\"Full\")\n",
    "            return\n",
    "        \n",
    "        # check if initial item\n",
    "        if(self.head == -1):\n",
    "            self.head = 0\n",
    "        \n",
    "        # set new rear index, add item\n",
    "        self.tail = (self.tail + 1) % self.size\n",
    "        self.queue[self.tail] = item\n",
    "\n",
    "    def dequeue(self):\n",
    "        # check if empty\n",
    "        if self.head == -1:\n",
    "            print(\"empty\")\n",
    "            return\n",
    "        \n",
    "        # return last item\n",
    "        elif (self.head == self.tail):\n",
    "            item = self.queue[self.head]\n",
    "            self.head = -1\n",
    "            self.tail = -1\n",
    "            return item\n",
    "        \n",
    "        # retrieve item, increment head index\n",
    "        else:\n",
    "            item = self.queue[self.head]\n",
    "            self.head = (self.head + 1) % self.size\n",
    "            return item\n",
    "\n",
    "    # def printQueue(self):\n",
    "    #     if self.tail >= self.head:\n",
    "    #         for i in range(self.head, self.tail+1):\n",
    "    #             print(self.queue[i])\n",
    "    #     else:\n",
    "    #         for i in range(self.head, self.size):\n",
    "    #             print(self.queue[i])\n",
    "    #         for i in range(0, self.tail + 1):\n",
    "    #             print(self.queue[i])\n",
    "\n",
    "\n"
   ]
  },
  {
   "cell_type": "markdown",
   "metadata": {},
   "source": [
    "Limited Space Queue Append Test"
   ]
  },
  {
   "cell_type": "code",
   "execution_count": 6,
   "metadata": {},
   "outputs": [
    {
     "name": "stdout",
     "output_type": "stream",
     "text": [
      "0.03748751\n",
      "0.03940105\n",
      "0.03588009\n",
      "0.03588367\n",
      "0.03539085\n"
     ]
    }
   ],
   "source": [
    "N = 100000\n",
    "SIZE = 1000\n",
    "\n",
    "for test in range(5):\n",
    "\n",
    "    testQueue = circleQueue(SIZE)\n",
    "\n",
    "    start = time()\n",
    "    for i in range(N):\n",
    "        # empty half space when full\n",
    "        if testQueue.checkFull():\n",
    "            for i in range(SIZE//2):\n",
    "                testQueue.dequeue()\n",
    "        # append\n",
    "        testQueue.enqueue(random())\n",
    "    end = time()\n",
    "\n",
    "    print(f\"{end-start:.8f}\")"
   ]
  }
 ],
 "metadata": {
  "kernelspec": {
   "display_name": "Python 3",
   "language": "python",
   "name": "python3"
  },
  "language_info": {
   "codemirror_mode": {
    "name": "ipython",
    "version": 3
   },
   "file_extension": ".py",
   "mimetype": "text/x-python",
   "name": "python",
   "nbconvert_exporter": "python",
   "pygments_lexer": "ipython3",
   "version": "3.11.3"
  }
 },
 "nbformat": 4,
 "nbformat_minor": 2
}
