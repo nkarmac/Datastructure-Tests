{
 "cells": [
  {
   "cell_type": "markdown",
   "metadata": {},
   "source": [
    "## **Heap**"
   ]
  },
  {
   "cell_type": "code",
   "execution_count": 1,
   "metadata": {},
   "outputs": [],
   "source": [
    "from time import time\n",
    "from random import random"
   ]
  },
  {
   "cell_type": "code",
   "execution_count": 2,
   "metadata": {},
   "outputs": [],
   "source": [
    "# optimized heap\n",
    "import heapq"
   ]
  },
  {
   "cell_type": "markdown",
   "metadata": {},
   "source": [
    "Create Heap Methods"
   ]
  },
  {
   "cell_type": "code",
   "execution_count": 166,
   "metadata": {},
   "outputs": [],
   "source": [
    "def heapify(x,i):\n",
    "    smallest = i\n",
    "    left = 2*i + 1\n",
    "    right = 2*i + 2\n",
    "\n",
    "    if left < len(x) and x[left] < x[smallest]:\n",
    "        smallest = left\n",
    "    \n",
    "    if right < len(x) and x[right] < x[smallest]:\n",
    "        smallest = right\n",
    "    \n",
    "    if i != smallest:\n",
    "        x[i],x[smallest] = x[smallest],x[i]\n",
    "        heapify(x,smallest)\n",
    "\n",
    "def createMinHeap(x):\n",
    "    for i in range( (len(x)//2 - 1) , -1, -1):\n",
    "        heapify(x,i)\n",
    "\n",
    "def insert(heap,item):\n",
    "    heap.append(item)\n",
    "    heapify(heap, len(heap)//2 - 1)\n",
    "\n",
    "def delete(heap: list,target):\n",
    "    if heap[-1] == target:\n",
    "        heap.remove(heap[-1])\n",
    "    else:\n",
    "        i = heap.index(target)\n",
    "        heap[-1], heap[i] = heap[i], heap[-1]\n",
    "        heap.pop()\n",
    "    heapify(heap, len(heap)//2 - 1)\n",
    "\n",
    "def pop(heap: list):\n",
    "    heap[-1], heap[0] = heap[0], heap[-1]\n",
    "    heap.pop()\n",
    "    heapify(heap,len(heap)//2 - 1)\n"
   ]
  },
  {
   "cell_type": "markdown",
   "metadata": {},
   "source": [
    "Test Heapifying Existing List"
   ]
  },
  {
   "cell_type": "code",
   "execution_count": 168,
   "metadata": {},
   "outputs": [
    {
     "name": "stdout",
     "output_type": "stream",
     "text": [
      "Naive Heap\tLibrary Heap\n",
      "0.33771658\t0.04285884\n",
      "0.34054041\t0.04231501\n",
      "0.35123467\t0.04336524\n",
      "0.35049391\t0.04048324\n",
      "0.34783196\t0.04385281\n"
     ]
    }
   ],
   "source": [
    "N = 1000000\n",
    "\n",
    "print(\"Naive Heap\\tLibrary Heap\")\n",
    "\n",
    "for test in range(5):\n",
    "\n",
    "    myHeap = []\n",
    "    libraryHeap = []\n",
    "\n",
    "    # fill lists\n",
    "    for i in range(N):\n",
    "        myHeap.append(random())\n",
    "        libraryHeap.append(random())\n",
    "\n",
    "    # heapify lists\n",
    "\n",
    "    start = time()\n",
    "    createMinHeap(myHeap)\n",
    "    end = time()\n",
    "\n",
    "    print(f\"{end-start:.8f}\", end=\"\")\n",
    "\n",
    "    start = time()\n",
    "    heapq.heapify(libraryHeap)\n",
    "    end = time()\n",
    "\n",
    "    print(f\"\\t{end-start:.8f}\")"
   ]
  },
  {
   "cell_type": "markdown",
   "metadata": {},
   "source": [
    "Test Inserting from Empty"
   ]
  },
  {
   "cell_type": "code",
   "execution_count": 169,
   "metadata": {},
   "outputs": [
    {
     "name": "stdout",
     "output_type": "stream",
     "text": [
      "Naive Heap\tLibrary Heap\n",
      "0.42091918\t0.13068199\n",
      "0.40282536\t0.13008571\n",
      "0.40595531\t0.13014627\n",
      "0.40523577\t0.12861013\n",
      "0.40174437\t0.13236237\n"
     ]
    }
   ],
   "source": [
    "N = 1000000\n",
    "\n",
    "print(\"Naive Heap\\tLibrary Heap\")\n",
    "\n",
    "for test in range(5):\n",
    "\n",
    "    myHeap = []\n",
    "    libraryHeap = []\n",
    "\n",
    "    start = time()\n",
    "    for i in range(N):\n",
    "        insert(myHeap,random())\n",
    "    end = time()\n",
    "\n",
    "    print(f\"{end-start:.8f}\", end=\"\")\n",
    "\n",
    "    start = time()\n",
    "    for i in range(N):\n",
    "        heapq.heappush(libraryHeap,random())\n",
    "    end = time()\n",
    "\n",
    "    print(f\"\\t{end-start:.8f}\")"
   ]
  },
  {
   "cell_type": "markdown",
   "metadata": {},
   "source": [
    "Test Popping Heap"
   ]
  },
  {
   "cell_type": "code",
   "execution_count": 173,
   "metadata": {},
   "outputs": [
    {
     "name": "stdout",
     "output_type": "stream",
     "text": [
      "Naive Heap\tLibrary Heap\n",
      "0.00398660\t0.00199914\n",
      "0.00398231\t0.00199366\n",
      "0.00323868\t0.00199509\n",
      "0.00298619\t0.00199366\n",
      "0.00299001\t0.00199318\n"
     ]
    }
   ],
   "source": [
    "N = 10000\n",
    "\n",
    "print(\"Naive Heap\\tLibrary Heap\")\n",
    "\n",
    "for test in range(5):\n",
    "\n",
    "    myHeap = []\n",
    "    libraryHeap = []\n",
    "\n",
    "    for i in range(N):\n",
    "        insert(myHeap,random())\n",
    "        heapq.heappush(libraryHeap,random())\n",
    "\n",
    "    start = time()\n",
    "    for i in range(N-1):\n",
    "        pop(myHeap)\n",
    "    end = time()\n",
    "    \n",
    "    print(f\"{end-start:.8f}\", end=\"\")\n",
    "\n",
    "    start = time()\n",
    "    for i in range(N-1):\n",
    "        heapq.heappop(libraryHeap)\n",
    "    end = time()\n",
    "\n",
    "    print(f\"\\t{end-start:.8f}\")"
   ]
  }
 ],
 "metadata": {
  "kernelspec": {
   "display_name": "Python 3",
   "language": "python",
   "name": "python3"
  },
  "language_info": {
   "codemirror_mode": {
    "name": "ipython",
    "version": 3
   },
   "file_extension": ".py",
   "mimetype": "text/x-python",
   "name": "python",
   "nbconvert_exporter": "python",
   "pygments_lexer": "ipython3",
   "version": "3.11.3"
  }
 },
 "nbformat": 4,
 "nbformat_minor": 2
}
