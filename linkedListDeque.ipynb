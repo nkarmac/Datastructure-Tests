{
 "cells": [
  {
   "cell_type": "markdown",
   "metadata": {},
   "source": [
    "## **Linked List Search vs Deque**"
   ]
  },
  {
   "cell_type": "code",
   "execution_count": 2,
   "metadata": {},
   "outputs": [],
   "source": [
    "from time import time\n",
    "from random import random"
   ]
  },
  {
   "cell_type": "code",
   "execution_count": 3,
   "metadata": {},
   "outputs": [],
   "source": [
    "# import \"optimized\" deque \n",
    "from collections import deque"
   ]
  },
  {
   "cell_type": "markdown",
   "metadata": {},
   "source": [
    "Create Singly Linked List Class"
   ]
  },
  {
   "cell_type": "code",
   "execution_count": 35,
   "metadata": {},
   "outputs": [],
   "source": [
    "class Node:\n",
    "    def __init__(self, data):\n",
    "        self.data = data\n",
    "        self.next = None\n",
    "\n",
    "class LinkedList:\n",
    "    def __init__(self):\n",
    "        self.head = None\n",
    "        self.size = 0\n",
    "\n",
    "    def addStart(self, data):\n",
    "        temp = Node(data)\n",
    "        if self.head == None:\n",
    "            self.head = Node(data)\n",
    "            self.size += 1\n",
    "        temp.next = self.head\n",
    "        self.head = temp\n",
    "        self.size += 1\n",
    "        return \n",
    "    \n",
    "    # def addEnd(self, data):\n",
    "    #     if self.head == None:\n",
    "    #         self.head = Node(data)\n",
    "    #         self.size += 1\n",
    "    #     else:\n",
    "    #         temp = self.head\n",
    "    #         while temp.next != None:\n",
    "    #             temp = temp.next\n",
    "    #         temp.next = Node(data)\n",
    "    #         self.size += 1\n",
    "    #     return\n",
    "    \n",
    "    def search(self, target):\n",
    "        if self.head == None:\n",
    "            print(None)\n",
    "        else:\n",
    "            temp = self.head\n",
    "            while temp != None:\n",
    "                if temp.data == target:\n",
    "                    return True\n",
    "                temp = temp.next\n",
    "            return False\n",
    "                \n",
    "    def printList(self):\n",
    "        if self.head == None:\n",
    "            print(None)\n",
    "        else:\n",
    "            temp = self.head\n",
    "            while temp != None:\n",
    "                print(temp.data)\n",
    "                temp = temp.next"
   ]
  },
  {
   "cell_type": "markdown",
   "metadata": {},
   "source": [
    "Compare searching halfway for middle item in Linked List vs Deque"
   ]
  },
  {
   "cell_type": "code",
   "execution_count": 71,
   "metadata": {},
   "outputs": [
    {
     "name": "stdout",
     "output_type": "stream",
     "text": [
      "Linked List:\t Deque:\n",
      "0.01595330\t0.00398135\n",
      "0.01545906\t0.00298834\n",
      "0.01494646\t0.00418758\n",
      "0.01494908\t0.00299335\n",
      "0.01421142\t0.00399017\n"
     ]
    }
   ],
   "source": [
    "N = 1000000\n",
    "\n",
    "print(\"Linked List:\\t Deque:\")\n",
    "\n",
    "for test in range(5):\n",
    "\n",
    "    collectionsDeque = deque([])\n",
    "    linkedList = LinkedList()\n",
    "\n",
    "    # fill linkedlist and deque\n",
    "    for i in range(N):\n",
    "        # store search number at middle\n",
    "        num = random()\n",
    "        if i == (N//2):\n",
    "            num = 1.0\n",
    "\n",
    "        linkedList.addStart(num)\n",
    "        collectionsDeque.appendleft(num)\n",
    "\n",
    "    start = time()\n",
    "    linkedList.search(1.0)\n",
    "    end = time()\n",
    "\n",
    "    print(f\"{end-start:.8f}\", end=\"\")\n",
    "\n",
    "    start = time()\n",
    "    1.0 in collectionsDeque\n",
    "    end = time()\n",
    "\n",
    "    print(f\"\\t{end-start:.8f}\")"
   ]
  }
 ],
 "metadata": {
  "kernelspec": {
   "display_name": "Python 3",
   "language": "python",
   "name": "python3"
  },
  "language_info": {
   "codemirror_mode": {
    "name": "ipython",
    "version": 3
   },
   "file_extension": ".py",
   "mimetype": "text/x-python",
   "name": "python",
   "nbconvert_exporter": "python",
   "pygments_lexer": "ipython3",
   "version": "3.11.3"
  }
 },
 "nbformat": 4,
 "nbformat_minor": 2
}
