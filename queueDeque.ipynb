{
 "cells": [
  {
   "cell_type": "markdown",
   "metadata": {},
   "source": [
    "## **Queue & Deque**"
   ]
  },
  {
   "cell_type": "code",
   "execution_count": 2,
   "metadata": {},
   "outputs": [],
   "source": [
    "from time import time\n",
    "from random import random"
   ]
  },
  {
   "cell_type": "code",
   "execution_count": 29,
   "metadata": {},
   "outputs": [],
   "source": [
    "# import \"optimized\" deque library\n",
    "from collections import deque"
   ]
  },
  {
   "cell_type": "markdown",
   "metadata": {},
   "source": [
    "Enqueue Front"
   ]
  },
  {
   "cell_type": "code",
   "execution_count": 22,
   "metadata": {},
   "outputs": [
    {
     "name": "stdout",
     "output_type": "stream",
     "text": [
      "Queue:\t\tDeque:\n",
      "0.84460354\t0.00522089\n",
      "0.84081936\t0.00598168\n",
      "0.84051895\t0.00498271\n",
      "0.84748054\t0.00598216\n",
      "0.84221673\t0.00598216\n"
     ]
    }
   ],
   "source": [
    "# queue size\n",
    "N = 100000\n",
    "\n",
    "# enqueue timing function\n",
    "def timing(queue):\n",
    "    start = time()\n",
    "    for i in range(N):\n",
    "        queue.insert(0,random())\n",
    "    end = time()\n",
    "    return end-start\n",
    "\n",
    "# enqueue tests\n",
    "print(\"Queue:\\t\\tDeque:\")\n",
    "for test in range(5):\n",
    "    \n",
    "    # queue test\n",
    "    insertTime = timing([])\n",
    "    print(f\"{insertTime:.8f}\", end=\"\")\n",
    "\n",
    "    # deque test\n",
    "    collectionsStack = deque([])\n",
    "    insertTime = timing(collectionsStack)\n",
    "    print(f\"\\t{insertTime:.8f}\")\n"
   ]
  },
  {
   "cell_type": "markdown",
   "metadata": {},
   "source": [
    "Dequeue End"
   ]
  },
  {
   "cell_type": "code",
   "execution_count": 23,
   "metadata": {},
   "outputs": [
    {
     "name": "stdout",
     "output_type": "stream",
     "text": [
      "Queue:\t\tDeque:\n",
      "0.00297260\t0.00300455\n",
      "0.00198078\t0.00200438\n",
      "0.00197220\t0.00298309\n",
      "0.00199342\t0.00199366\n",
      "0.00298953\t0.00299048\n"
     ]
    }
   ],
   "source": [
    "N = 100000\n",
    "\n",
    "# dequeue timing function\n",
    "def timing(queue):\n",
    "    start = time()\n",
    "    for i in range(N):\n",
    "        queue.pop()\n",
    "    end = time()\n",
    "    return end-start\n",
    "\n",
    "print(\"Queue:\\t\\tDeque:\")\n",
    "for test in range(5):\n",
    "\n",
    "    # create empty queues\n",
    "    myQueue = []\n",
    "    collectionsStack = deque([])\n",
    "\n",
    "    # fill queues\n",
    "    for i in range(N):\n",
    "        myQueue.insert(0,random())\n",
    "        collectionsStack.insert(0,random())\n",
    "\n",
    "    # queue dequeue\n",
    "    popTime = timing(myQueue)\n",
    "    print(f\"{popTime:.8f}\", end=\"\")\n",
    "\n",
    "    # deque dequeue\n",
    "    popTime = timing(collectionsStack)\n",
    "    print(f\"\\t{popTime:.8f}\")"
   ]
  },
  {
   "cell_type": "markdown",
   "metadata": {},
   "source": [
    "Enqueue End\n"
   ]
  },
  {
   "cell_type": "code",
   "execution_count": 38,
   "metadata": {},
   "outputs": [
    {
     "name": "stdout",
     "output_type": "stream",
     "text": [
      "Queue:\t\tDeque:\n",
      "0.00299001\t0.00398564\n",
      "0.00360703\t0.00353670\n",
      "0.00322700\t0.00298643\n",
      "0.00398993\t0.00398684\n",
      "0.00298977\t0.00298643\n"
     ]
    }
   ],
   "source": [
    "# queue size\n",
    "N = 100000\n",
    "\n",
    "# enqueue timing function\n",
    "def timing(queue):\n",
    "    start = time()\n",
    "    for i in range(N):\n",
    "        queue.append(random())\n",
    "    end = time()\n",
    "    return end-start\n",
    "\n",
    "# enqueue tests\n",
    "print(\"Queue:\\t\\tDeque:\")\n",
    "for test in range(5):\n",
    "    \n",
    "    # queue test\n",
    "    appendTime = timing([])\n",
    "    print(f\"{appendTime:.8f}\", end=\"\")\n",
    "\n",
    "    # deque test\n",
    "    collectionsStack = deque([])\n",
    "    appendTime = timing(collectionsStack)\n",
    "    print(f\"\\t{appendTime:.8f}\")"
   ]
  },
  {
   "cell_type": "markdown",
   "metadata": {},
   "source": [
    "Dequeue Front"
   ]
  },
  {
   "cell_type": "code",
   "execution_count": 28,
   "metadata": {},
   "outputs": [
    {
     "name": "stdout",
     "output_type": "stream",
     "text": [
      "Queue:\t\tDeque:\n",
      "9.24177957\t0.00504398\n",
      "9.05862856\t0.00398874\n",
      "9.05871177\t0.00304294\n",
      "9.05977821\t0.00398636\n",
      "8.90973139\t0.00399017\n"
     ]
    }
   ],
   "source": [
    "N = 100000\n",
    "\n",
    "print(\"Queue:\\t\\tDeque:\")\n",
    "for test in range(5):\n",
    "\n",
    "    # create empty queues\n",
    "    myQueue = []\n",
    "    collectionsStack = deque([])\n",
    "\n",
    "    # fill queues\n",
    "    for i in range(N):\n",
    "        myQueue.append(random())\n",
    "        collectionsStack.append(random())\n",
    "\n",
    "    # queue dequeue\n",
    "    start = time()\n",
    "    for i in range(N):\n",
    "        myQueue.pop(0)\n",
    "    end = time()\n",
    "    print(f\"{end-start:.8f}\", end=\"\")\n",
    "\n",
    "    # deque dequeue\n",
    "    start = time()\n",
    "    for i in range(N):\n",
    "        collectionsStack.popleft()\n",
    "    end = time()\n",
    "    print(f\"\\t{end-start:.8f}\")"
   ]
  }
 ],
 "metadata": {
  "kernelspec": {
   "display_name": "Python 3",
   "language": "python",
   "name": "python3"
  },
  "language_info": {
   "codemirror_mode": {
    "name": "ipython",
    "version": 3
   },
   "file_extension": ".py",
   "mimetype": "text/x-python",
   "name": "python",
   "nbconvert_exporter": "python",
   "pygments_lexer": "ipython3",
   "version": "3.11.3"
  }
 },
 "nbformat": 4,
 "nbformat_minor": 2
}
