{
 "cells": [
  {
   "cell_type": "markdown",
   "metadata": {},
   "source": [
    "## **Stack**"
   ]
  },
  {
   "cell_type": "code",
   "execution_count": 1,
   "metadata": {},
   "outputs": [],
   "source": [
    "from time import time\n",
    "from random import random"
   ]
  },
  {
   "cell_type": "code",
   "execution_count": 2,
   "metadata": {},
   "outputs": [],
   "source": [
    "# import \"optimized\" deque library\n",
    "from collections import deque"
   ]
  },
  {
   "cell_type": "markdown",
   "metadata": {},
   "source": [
    "Push"
   ]
  },
  {
   "cell_type": "code",
   "execution_count": 4,
   "metadata": {},
   "outputs": [
    {
     "name": "stdout",
     "output_type": "stream",
     "text": [
      "Built-In:\tCollections:\n",
      "0.05334830\t0.04086757\n",
      "0.05049801\t0.04180384\n",
      "0.05158567\t0.04186201\n",
      "0.05238771\t0.04192066\n",
      "0.04829073\t0.04061174\n"
     ]
    }
   ],
   "source": [
    "N = 1000000\n",
    "\n",
    "# append timing function\n",
    "def timing(stack):\n",
    "    start = time()\n",
    "    for i in range(N):\n",
    "        stack.append(random())\n",
    "    end = time()\n",
    "    return end-start\n",
    "\n",
    "print(\"Built-In:\\tCollections:\")\n",
    "\n",
    "for test in range(5):\n",
    "\n",
    "    myStack = []\n",
    "    collectionsStack = deque([])\n",
    "\n",
    "    # time built-in stack\n",
    "    appendTime = timing(myStack)\n",
    "    print(f\"{appendTime:.8f}\", end=\"\")\n",
    "\n",
    "    # time collections stack\n",
    "    appendTime = timing(collectionsStack)\n",
    "    print(f\"\\t{appendTime:.8f}\")"
   ]
  },
  {
   "cell_type": "markdown",
   "metadata": {},
   "source": [
    "Pop"
   ]
  },
  {
   "cell_type": "code",
   "execution_count": 47,
   "metadata": {},
   "outputs": [
    {
     "name": "stdout",
     "output_type": "stream",
     "text": [
      "Built-In:\tCollections:\n",
      "0.02607679\t0.02691436\n",
      "0.02555227\t0.02492189\n",
      "0.02591395\t0.02994132\n",
      "0.02589822\t0.02690768\n",
      "0.02587390\t0.02691913\n"
     ]
    }
   ],
   "source": [
    "N = 1000000\n",
    "\n",
    "# pop timing function\n",
    "def timing(stack):\n",
    "    start = time()\n",
    "    for i in range(N):\n",
    "        stack.pop()\n",
    "    end = time()\n",
    "    return end-start\n",
    "\n",
    "print(\"Built-In:\\tCollections:\")\n",
    "\n",
    "for test in range(5):\n",
    "\n",
    "    myStack = []\n",
    "    collectionsStack = deque([])\n",
    "    \n",
    "    for i in range(N):\n",
    "        myStack.append(random())\n",
    "        collectionsStack.append(random())\n",
    "\n",
    "    # time built-in stack\n",
    "    popTime = timing(myStack)\n",
    "    print(f\"{popTime:.8f}\", end=\"\")\n",
    "\n",
    "    # time collections stack\n",
    "    popTime = timing(collectionsStack)\n",
    "    print(f\"\\t{popTime:.8f}\")\n"
   ]
  }
 ],
 "metadata": {
  "kernelspec": {
   "display_name": "Python 3",
   "language": "python",
   "name": "python3"
  },
  "language_info": {
   "codemirror_mode": {
    "name": "ipython",
    "version": 3
   },
   "file_extension": ".py",
   "mimetype": "text/x-python",
   "name": "python",
   "nbconvert_exporter": "python",
   "pygments_lexer": "ipython3",
   "version": "3.11.3"
  }
 },
 "nbformat": 4,
 "nbformat_minor": 2
}
